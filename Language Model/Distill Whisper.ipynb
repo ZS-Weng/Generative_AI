{
 "cells": [
  {
   "cell_type": "markdown",
   "id": "016a6842-d69b-419b-9d8e-ad48fc895419",
   "metadata": {},
   "source": [
    "## Steps Involved in the setup\n",
    "\n",
    "1. Install librosa with conda install > There might be an error where the soundfile could not be found\n",
    "2. pip uninstall soundfile\n",
    "3. pip install soundfile"
   ]
  },
  {
   "cell_type": "code",
   "execution_count": 1,
   "id": "9fc18247-31aa-48b3-8a2b-9dfee4968fee",
   "metadata": {},
   "outputs": [],
   "source": [
    "from huggingface_hub import hf_hub_download\n",
    "from huggingface_hub import list_repo_files"
   ]
  },
  {
   "cell_type": "markdown",
   "id": "e17aecb5-2b89-4280-8739-8d0f6cfef792",
   "metadata": {},
   "source": [
    "## Download each file\n",
    "local_dir = \"C:/Users/wengz/Desktop/model_weights/distil-whisper/distil-large-v3\"\n",
    "for file in files:\n",
    "    file_path = hf_hub_download(repo_id=model_id, filename=file,local_dir=local_dir)\n",
    "    print(f\"Downloaded {file} to {file_path}\")"
   ]
  },
  {
   "cell_type": "code",
   "execution_count": 11,
   "id": "118a96db",
   "metadata": {},
   "outputs": [
    {
     "data": {
      "application/vnd.jupyter.widget-view+json": {
       "model_id": "53088a76037b43719ccb01cc732ef34e",
       "version_major": 2,
       "version_minor": 0
      },
      "text/plain": [
       "config.json:   0%|          | 0.00/2.26k [00:00<?, ?B/s]"
      ]
     },
     "metadata": {},
     "output_type": "display_data"
    },
    {
     "name": "stderr",
     "output_type": "stream",
     "text": [
      "c:\\Users\\wengz\\miniforge3\\envs\\ds_gpu\\Lib\\site-packages\\huggingface_hub\\file_download.py:159: UserWarning: `huggingface_hub` cache-system uses symlinks by default to efficiently store duplicated files but your machine does not support them in C:\\Users\\wengz\\.cache\\huggingface\\hub\\models--distil-whisper--distil-small.en. Caching files will still work but in a degraded version that might require more space on your disk. This warning can be disabled by setting the `HF_HUB_DISABLE_SYMLINKS_WARNING` environment variable. For more details, see https://huggingface.co/docs/huggingface_hub/how-to-cache#limitations.\n",
      "To support symlinks on Windows, you either need to activate Developer Mode or to run Python as an administrator. In order to see activate developer mode, see this article: https://docs.microsoft.com/en-us/windows/apps/get-started/enable-your-device-for-development\n",
      "  warnings.warn(message)\n"
     ]
    },
    {
     "data": {
      "application/vnd.jupyter.widget-view+json": {
       "model_id": "69681002fef84d7898dbec9511741d04",
       "version_major": 2,
       "version_minor": 0
      },
      "text/plain": [
       "model.safetensors:   0%|          | 0.00/332M [00:00<?, ?B/s]"
      ]
     },
     "metadata": {},
     "output_type": "display_data"
    },
    {
     "data": {
      "application/vnd.jupyter.widget-view+json": {
       "model_id": "1ceaae77d63d45799c7b8fe72d6e50f6",
       "version_major": 2,
       "version_minor": 0
      },
      "text/plain": [
       "generation_config.json:   0%|          | 0.00/1.92k [00:00<?, ?B/s]"
      ]
     },
     "metadata": {},
     "output_type": "display_data"
    },
    {
     "data": {
      "application/vnd.jupyter.widget-view+json": {
       "model_id": "fffd3e569fd3463a91e37a3fbcbc1bd2",
       "version_major": 2,
       "version_minor": 0
      },
      "text/plain": [
       "preprocessor_config.json:   0%|          | 0.00/339 [00:00<?, ?B/s]"
      ]
     },
     "metadata": {},
     "output_type": "display_data"
    },
    {
     "data": {
      "application/vnd.jupyter.widget-view+json": {
       "model_id": "dd93e4902f7748fe9a64eef445551d86",
       "version_major": 2,
       "version_minor": 0
      },
      "text/plain": [
       "tokenizer_config.json:   0%|          | 0.00/282k [00:00<?, ?B/s]"
      ]
     },
     "metadata": {},
     "output_type": "display_data"
    },
    {
     "data": {
      "application/vnd.jupyter.widget-view+json": {
       "model_id": "e1a5fd1205744369b94893d25c0008de",
       "version_major": 2,
       "version_minor": 0
      },
      "text/plain": [
       "vocab.json:   0%|          | 0.00/999k [00:00<?, ?B/s]"
      ]
     },
     "metadata": {},
     "output_type": "display_data"
    },
    {
     "data": {
      "application/vnd.jupyter.widget-view+json": {
       "model_id": "a8f30d5bb7f5419a85adbb5346d33e92",
       "version_major": 2,
       "version_minor": 0
      },
      "text/plain": [
       "tokenizer.json:   0%|          | 0.00/2.41M [00:00<?, ?B/s]"
      ]
     },
     "metadata": {},
     "output_type": "display_data"
    },
    {
     "data": {
      "application/vnd.jupyter.widget-view+json": {
       "model_id": "4e6c2cc064a14dffa862342978661bd1",
       "version_major": 2,
       "version_minor": 0
      },
      "text/plain": [
       "merges.txt:   0%|          | 0.00/456k [00:00<?, ?B/s]"
      ]
     },
     "metadata": {},
     "output_type": "display_data"
    },
    {
     "data": {
      "application/vnd.jupyter.widget-view+json": {
       "model_id": "b30c8e4dab7f424b8a84d65460e557cd",
       "version_major": 2,
       "version_minor": 0
      },
      "text/plain": [
       "normalizer.json:   0%|          | 0.00/52.7k [00:00<?, ?B/s]"
      ]
     },
     "metadata": {},
     "output_type": "display_data"
    },
    {
     "data": {
      "application/vnd.jupyter.widget-view+json": {
       "model_id": "ea7540a7da2745b287ee01687e7f0a20",
       "version_major": 2,
       "version_minor": 0
      },
      "text/plain": [
       "added_tokens.json:   0%|          | 0.00/34.6k [00:00<?, ?B/s]"
      ]
     },
     "metadata": {},
     "output_type": "display_data"
    },
    {
     "data": {
      "application/vnd.jupyter.widget-view+json": {
       "model_id": "bdc6c4a84e4441e3938c53eef6654481",
       "version_major": 2,
       "version_minor": 0
      },
      "text/plain": [
       "special_tokens_map.json:   0%|          | 0.00/2.17k [00:00<?, ?B/s]"
      ]
     },
     "metadata": {},
     "output_type": "display_data"
    },
    {
     "name": "stderr",
     "output_type": "stream",
     "text": [
      "c:\\Users\\wengz\\miniforge3\\envs\\ds_gpu\\Lib\\site-packages\\transformers\\modeling_utils.py:2618: UserWarning: Moving the following attributes in the config to the generation config: {'max_length': 448, 'suppress_tokens': [1, 2, 7, 8, 9, 10, 14, 25, 26, 27, 28, 29, 31, 58, 59, 60, 61, 62, 63, 90, 91, 92, 93, 357, 366, 438, 532, 685, 705, 796, 930, 1058, 1220, 1267, 1279, 1303, 1343, 1377, 1391, 1635, 1782, 1875, 2162, 2361, 2488, 3467, 4008, 4211, 4600, 4808, 5299, 5855, 6329, 7203, 9609, 9959, 10563, 10786, 11420, 11709, 11907, 13163, 13697, 13700, 14808, 15306, 16410, 16791, 17992, 19203, 19510, 20724, 22305, 22935, 27007, 30109, 30420, 33409, 34949, 40283, 40493, 40549, 47282, 49146, 50257, 50357, 50358, 50359, 50360, 50361]}. You are seeing this warning because you've set generation parameters in the model config, as opposed to in the generation config.\n",
      "  warnings.warn(\n"
     ]
    },
    {
     "data": {
      "text/plain": [
       "[]"
      ]
     },
     "execution_count": 11,
     "metadata": {},
     "output_type": "execute_result"
    }
   ],
   "source": [
    "# Replace 'model_id' with the ID of the model you want to download\n",
    "model_id = \"distil-whisper/distil-small.en\"\n",
    "\n",
    "model = AutoModelForSpeechSeq2Seq.from_pretrained(\n",
    "    model_id, torch_dtype=torch_dtype, low_cpu_mem_usage=True, use_safetensors=True\n",
    ")\n",
    "\n",
    "processor = AutoProcessor.from_pretrained(model_id)\n",
    "\n",
    "local_dir = \"C:/Users/wengz/Desktop/model_weights/distil-whisper/distil-small.en\"\n",
    "\n",
    "model.save_pretrained(local_dir)\n",
    "processor.save_pretrained(local_dir)"
   ]
  },
  {
   "cell_type": "markdown",
   "id": "6e1e3caf",
   "metadata": {},
   "source": [
    "#### Replace 'model_id' with the ID of the model you want to download\n",
    "model_id = \"distil-whisper/distil-medium.en\"\n",
    "\n",
    "#### List all files in the repository\n",
    "files = list_repo_files(repo_id=model_id)\n",
    "\n",
    "#### Download each file\n",
    "local_dir = \"C:/Users/wengz/Desktop/model_weights/distil-whisper/distil-whisper/distil-medium.en\"\n",
    "for file in files:\n",
    "    file_path = hf_hub_download(repo_id=model_id, filename=file,local_dir=local_dir)\n",
    "    print(f\"Downloaded {file} to {file_path}\")"
   ]
  },
  {
   "cell_type": "code",
   "execution_count": 7,
   "id": "32741f2b-22c9-4540-9ba5-0cf5ef04a228",
   "metadata": {},
   "outputs": [],
   "source": [
    "import os\n",
    "\n",
    "# Replace with the path to your ffmpeg binary\n",
    "os.environ[\"PATH\"] += os.pathsep + \"C:/ffmpeg/bin\""
   ]
  },
  {
   "cell_type": "code",
   "execution_count": 1,
   "id": "03f0b683-6519-45ec-a86d-0961a1a27c1a",
   "metadata": {},
   "outputs": [
    {
     "name": "stdout",
     "output_type": "stream",
     "text": [
      "['soundfile']\n"
     ]
    }
   ],
   "source": [
    "import torchaudio\n",
    "print(torchaudio.list_audio_backends())"
   ]
  },
  {
   "cell_type": "code",
   "execution_count": 12,
   "id": "10d67081",
   "metadata": {},
   "outputs": [],
   "source": [
    "import soundfile as sf\n",
    "data, samplerate = sf.read(\"C:/Users/wengz/Desktop/Council Meeting - July 26, 2022.mp3\")"
   ]
  },
  {
   "cell_type": "code",
   "execution_count": 20,
   "id": "acc236b3",
   "metadata": {},
   "outputs": [],
   "source": [
    "import torchaudio\n",
    "import torch\n",
    "import soundfile as sf\n",
    "\n",
    "# Read the audio file using soundfile\n",
    "audio_file = \"C:/Users/wengz/Desktop/Council Meeting - July 26, 2022.mp3\"\n",
    "audio, sample_rate = sf.read(audio_file)\n",
    "\n",
    "# Convert to mono if the audio has multiple channels\n",
    "if len(audio.shape) > 1:\n",
    "    audio = audio.mean(axis=1)\n",
    "\n",
    "# Convert numpy array to a PyTorch tensor of the correct type (float32)\n",
    "audio_tensor = torch.tensor(audio, dtype=torch.float32)  # Ensure the tensor is float32\n",
    "\n",
    "# Resample the audio to 16kHz using torchaudio\n",
    "resampled_audio = torchaudio.transforms.Resample(orig_freq=sample_rate, new_freq=16000)(audio_tensor)\n",
    "\n",
    "# Convert back to a numpy array if necessary (for Whisper processor)\n",
    "audio_input = resampled_audio.squeeze().numpy()"
   ]
  },
  {
   "cell_type": "code",
   "execution_count": 9,
   "id": "e286746a-d19b-488e-a4ee-3d6f9e1806c5",
   "metadata": {},
   "outputs": [
    {
     "name": "stderr",
     "output_type": "stream",
     "text": [
      "C:\\Users\\wengz\\AppData\\Local\\Temp\\ipykernel_20364\\711131934.py:5: UserWarning: PySoundFile failed. Trying audioread instead.\n",
      "  audio_input, _ = librosa.load(audio_file, sr=16000)\n",
      "c:\\Users\\wengz\\miniconda3\\envs\\da_datascience_v0.2.0\\Lib\\site-packages\\librosa\\core\\audio.py:184: FutureWarning: librosa.core.audio.__audioread_load\n",
      "\tDeprecated as of librosa version 0.10.0.\n",
      "\tIt will be removed in librosa version 1.0.\n",
      "  y, sr_native = __audioread_load(path, offset, duration, dtype)\n"
     ]
    }
   ],
   "source": [
    "import librosa\n",
    "\n",
    "# Load and preprocess audio file\n",
    "audio_file = \"C:/Users/wengz/Desktop/Council Meeting - July 26, 2022.wav\"\n",
    "audio_input, _ = librosa.load(audio_file, sr=16000)"
   ]
  },
  {
   "cell_type": "code",
   "execution_count": 4,
   "id": "5a97cf5c-6f18-4bf2-acdc-60be9fdb57b4",
   "metadata": {},
   "outputs": [
    {
     "name": "stdout",
     "output_type": "stream",
     "text": [
      "Available audioread backends:\n",
      "<class 'audioread.rawread.RawAudioFile'>\n",
      "<class 'audioread.ffdec.FFmpegAudioFile'>\n"
     ]
    }
   ],
   "source": [
    "import audioread\n",
    "\n",
    "# Check which backend `audioread` is using\n",
    "print(\"Available audioread backends:\")\n",
    "for backend in audioread.available_backends():\n",
    "    print(backend)"
   ]
  },
  {
   "cell_type": "markdown",
   "id": "d44bf28a-9f43-4dab-8eef-1f4e38b4bf5a",
   "metadata": {},
   "source": [
    "# Load audio using torchaudio\n",
    "audio_file = \"C:/Users/wengz/Desktop/2024-09-26 Planning Meeting.mp3\"\n",
    "waveform, sample_rate = torchaudio.load(audio_file)\n",
    "\n",
    "# Resample if necessary (Whisper requires 16kHz)\n",
    "resampler = torchaudio.transforms.Resample(orig_freq=sample_rate, new_freq=16000)\n",
    "waveform = resampler(waveform)"
   ]
  },
  {
   "cell_type": "code",
   "execution_count": 19,
   "id": "e3bf5d1b",
   "metadata": {},
   "outputs": [],
   "source": [
    "import torch\n",
    "from transformers import AutoModelForSpeechSeq2Seq, AutoProcessor, pipeline\n",
    "from datasets import load_dataset\n",
    "\n",
    "device = \"cuda:0\" if torch.cuda.is_available() else \"cpu\"\n",
    "# torch_dtype = torch.float16 if torch.cuda.is_available() else torch.float32\n",
    "torch_dtype = torch.float16\n",
    "device = \"cpu\"\n",
    "\n",
    "model_id = \"C:/Users/wengz/Desktop/model_weights/distil-whisper/distil-small.en\"\n",
    "\n",
    "model = AutoModelForSpeechSeq2Seq.from_pretrained(\n",
    "    model_id, torch_dtype=torch_dtype, low_cpu_mem_usage=True, use_safetensors=True\n",
    ")\n",
    "model.to(device)\n",
    "\n",
    "processor = AutoProcessor.from_pretrained(model_id)\n",
    "\n",
    "pipe = pipeline(\n",
    "    \"automatic-speech-recognition\",\n",
    "    model=model,\n",
    "    tokenizer=processor.tokenizer,\n",
    "    feature_extractor=processor.feature_extractor,\n",
    "    torch_dtype=torch_dtype,\n",
    "    return_timestamps=True,\n",
    "    device=device,\n",
    ")"
   ]
  },
  {
   "cell_type": "code",
   "execution_count": 7,
   "id": "46d4d282",
   "metadata": {},
   "outputs": [],
   "source": [
    "import torch\n",
    "from transformers import AutoModelForSpeechSeq2Seq, AutoProcessor, pipeline\n",
    "from datasets import load_dataset\n",
    "\n",
    "device = \"cuda:0\" if torch.cuda.is_available() else \"cpu\"\n",
    "# torch_dtype = torch.float16 if torch.cuda.is_available() else torch.float32\n",
    "torch_dtype = torch.float16\n",
    "# device = \"cpu\"\n",
    "\n",
    "model_id = \"C:/Users/wengz/Desktop/model_weights/distil-whisper/distil-medium.en\"\n",
    "\n",
    "model = AutoModelForSpeechSeq2Seq.from_pretrained(\n",
    "    model_id, torch_dtype=torch_dtype, low_cpu_mem_usage=True, use_safetensors=True\n",
    ")\n",
    "model.to(device)\n",
    "\n",
    "processor = AutoProcessor.from_pretrained(model_id)\n",
    "\n",
    "pipe = pipeline(\n",
    "    \"automatic-speech-recognition\",\n",
    "    model=model,\n",
    "    tokenizer=processor.tokenizer,\n",
    "    feature_extractor=processor.feature_extractor,\n",
    "    torch_dtype=torch_dtype,\n",
    "    return_timestamps=True,\n",
    "    device=device,\n",
    ")"
   ]
  },
  {
   "cell_type": "code",
   "execution_count": 6,
   "id": "078c6bad",
   "metadata": {},
   "outputs": [],
   "source": [
    "import torch\n",
    "from transformers import AutoModelForSpeechSeq2Seq, AutoProcessor, pipeline\n",
    "from datasets import load_dataset\n",
    "\n",
    "device = \"cuda:0\" if torch.cuda.is_available() else \"cpu\"\n",
    "# torch_dtype = torch.float16 if torch.cuda.is_available() else torch.float32\n",
    "torch_dtype = torch.float16\n",
    "# device = \"cpu\"\n",
    "\n",
    "model_id = \"C:/Users/wengz/Desktop/model_weights/distil-whisper/distil-large-v3\"\n",
    "\n",
    "model = AutoModelForSpeechSeq2Seq.from_pretrained(\n",
    "    model_id, torch_dtype=torch_dtype, low_cpu_mem_usage=True, use_safetensors=True\n",
    ")\n",
    "model.to(device)\n",
    "\n",
    "processor = AutoProcessor.from_pretrained(model_id)\n",
    "\n",
    "pipe = pipeline(\n",
    "    \"automatic-speech-recognition\",\n",
    "    model=model,\n",
    "    tokenizer=processor.tokenizer,\n",
    "    feature_extractor=processor.feature_extractor,\n",
    "    torch_dtype=torch_dtype,\n",
    "    return_timestamps=True,\n",
    "    device=device,\n",
    ")"
   ]
  },
  {
   "cell_type": "code",
   "execution_count": 21,
   "id": "4954033b-c46e-4032-a9a4-34c27eb29669",
   "metadata": {},
   "outputs": [
    {
     "name": "stderr",
     "output_type": "stream",
     "text": [
      "c:\\Users\\wengz\\miniconda3\\envs\\da_datascience_v0.2.0\\Lib\\site-packages\\transformers\\models\\whisper\\generation_whisper.py:496: FutureWarning: The input name `inputs` is deprecated. Please make sure to use `input_features` instead.\n",
      "  warnings.warn(\n",
      "The attention mask is not set and cannot be inferred from input because pad token is same as eos token. As a consequence, you may observe unexpected behavior. Please pass your input's `attention_mask` to obtain reliable results.\n"
     ]
    }
   ],
   "source": [
    "result = pipe(audio_input)"
   ]
  },
  {
   "cell_type": "code",
   "execution_count": 22,
   "id": "a8259524-871e-4ca0-bab0-9b665407cfe1",
   "metadata": {},
   "outputs": [],
   "source": [
    "list_result = result[\"text\"].split(\". \")"
   ]
  },
  {
   "cell_type": "code",
   "execution_count": 23,
   "id": "d732eb8a",
   "metadata": {},
   "outputs": [
    {
     "data": {
      "text/plain": [
       "[' being that it is one p.m',\n",
       " 'I will call the council meeting to order',\n",
       " \"Before we move board with the approval of the, or maybe I'll do the approval of the agenda first\",\n",
       " 'And I have a mover and seconder for the approval of the agenda, please',\n",
       " 'Council, please',\n",
       " 'Council, Council, meeting, be approved',\n",
       " 'Thank you',\n",
       " 'Is there any additions from council? I have a S H',\n",
       " 'H',\n",
       " 'I appointment',\n",
       " 'And I also have with word appropriations we have two resolutions for that just so Councilmels, is there anything else? All those in favor',\n",
       " \"Carried, we're zero\",\n",
       " 'So before we move on to the minutes, I do have a statement to read on behalf of Council meeting I would like to take a moment to speak about Council Williams due to both his personal health and extenuating circumstances over the last eight months effective immediately Council Williams has resigned from his position on behalf of Council administration and the public I want to thank him for his contributions to Springfield, including bringing forward issues for discussion with Council that helped increase the safety of our residents',\n",
       " 'As we all know the last eight the last eight months have been very difficult and we wish him well and we wish him well',\n",
       " 'Next we have the approval of the minutes from July 19th can I have a move on a second or please',\n",
       " 'Councilor fuel Councilor Burdine',\n",
       " 'Whereas minutes of the council meeting held on July 19th, 2022 have been previously distributed to council be resolved that the same be and are here by approved',\n",
       " 'Thank you',\n",
       " 'Is there any amendments from council to the minutes? All those in favor carried force',\n",
       " 'Next, we have question period',\n",
       " \"So if there's anybody in the online gallery or here in person that has any questions regarding the current agenda, please unmute yourself\",\n",
       " 'Okay, we will move on to the May financial statement',\n",
       " 'Could have a move on a second or please',\n",
       " 'Councilor Dean, Councilor Elki',\n",
       " 'Be resolved that the May financial statements be approved as presented',\n",
       " 'from council',\n",
       " 'All those in favor carry four zero',\n",
       " 'Next we have the 2023 board of revision appointments',\n",
       " \"So I'm going to appoint council, Dean and councilor fuel these can be changed close to the date if needed\",\n",
       " 'Can I have a move on a second or please? Councilor Relke, council fuel',\n",
       " 'be resolved that the arm is bring filled 2023 border revisions be held November 17',\n",
       " '2020 and be further resolved that the board be composed as the following chair Doug Shaver councilor fuel council feel council for being thank you',\n",
       " 'Is there any further discussion from council? all those in favor carried four zero',\n",
       " 'Next we have just add to that last one as secretary is Erica wood',\n",
       " 'Thank you',\n",
       " 'Next we have',\n",
       " 'a new about this at our last council meeting',\n",
       " 'We want to support this organization',\n",
       " 'They do great work in keeping our residents safe and coming out here when there are emergencies',\n",
       " 'So are we amending the resolution or pointing through a new resolution? This looks like a new resolution',\n",
       " 'Okay',\n",
       " 'Can I have a move on a second or please? Councilor Ralki, Councilor Vardine',\n",
       " 'He resolved the council their room as well as Springfield authorized administration to purchase 16 tickets, two tables of eight for total of $3,600',\n",
       " 'Thank you and this goes to support stars in the work that they do in our municipality and across Manitoba',\n",
       " 'Is there any further discussion from council? All those in favor, carried poor zero',\n",
       " 'Next we have the 2023 Canada Winter Games request',\n",
       " 'This would be from our ward appropriations',\n",
       " \"So in that ward appropriation, we're going to reallocate Councilor Williams' ward appropriation equally between the four members of council\",\n",
       " \"And then we will assign, I'll ask council if they want to contribute towards this request for the 2023 Canada Winter Games\",\n",
       " 'So can I have a mover in a second? move on a second or please',\n",
       " 'Councilor Belke, Councilor Fuel',\n",
       " 'Be resolved that the Council of the Royal Municipal and Springfield approved to split the remaining word appropriations equally from word five to the remaining council members',\n",
       " \"Okay, and then I think 250, do you want to separate the two or do them? Okay, so we'll separate and we'll do two separate resolutions., is there any further discussion on that resolution from council? All those in favor carried for zero\",\n",
       " 'Now we will do the actual 2023 Canada Winter Games request',\n",
       " 'Can I have a move on a second here please? Councilor Fuel, Councilor Rauki',\n",
       " 'appropriations from word one, word two, word four and mayor',\n",
       " 'Thank you',\n",
       " \"There's any further discussion from council\",\n",
       " 'All those in favor carried for zero',\n",
       " 'Next we have the S',\n",
       " 'H',\n",
       " 'H',\n",
       " 'I appointment',\n",
       " 'Can I have a move on a second or please',\n",
       " 'Council',\n",
       " \"You're muted blame, sorry\",\n",
       " 'Be it resolved that the council of the Army Springfield approve Councilor Bredeem and Council Refield to the SHI',\n",
       " \"Sorry, it's actually Councilor Ralki\",\n",
       " 'Sorry, Councilor Ralki to S H',\n",
       " 'H',\n",
       " 'I board appointment',\n",
       " 'Thank you',\n",
       " 'Is there any further discussion from council? All those in favor? Carried for zero',\n",
       " 'I will be reviewing any other board appointments that need to be changed with the CAO and then anything else that needs to come forward will come forward on the next council meeting',\n",
       " 'Can I have a mover and second or to adjourn please? Councilor Dean',\n",
       " 'All those',\n",
       " 'in favor, meeting adjourned.']"
      ]
     },
     "execution_count": 23,
     "metadata": {},
     "output_type": "execute_result"
    }
   ],
   "source": [
    "list_result"
   ]
  },
  {
   "cell_type": "code",
   "execution_count": 8,
   "id": "0e5c1560",
   "metadata": {},
   "outputs": [
    {
     "data": {
      "text/plain": [
       "[' Being that it is 1 p.m',\n",
       " 'I will call the council meeting to order',\n",
       " \"Before we move forward with the approval of the, well, maybe I'll do the approval of the agenda first\",\n",
       " 'Can I have a mover and seconder for the approval of the agenda please? Councillor Rolke, Councillor Fuel',\n",
       " 'Be resolved that the agenda for July 26th, council meeting be approved',\n",
       " 'Thank you',\n",
       " 'Is there any additions from council? I have SHH appointment',\n",
       " 'And I also have, with ward appropriations, we have two resolutions for that, just so council knows',\n",
       " 'Is there anything else? All those in favor? Carried were zero',\n",
       " 'So before we move on to the minutes, I do have a statement to read on behalf of Councilor Williams',\n",
       " 'So before we begin the meeting, I would like to take a moment to speak about Councilor Williams, due to both his personal health and extenuating circumstances over the last eight months, effective immediately, Council Williams has resigned from his position',\n",
       " 'On behalf of Council Administration and the public, I want to thank him for his contributions to Springfield, including bringing forward issues for discussion with Council that helped increase the safety of our residents',\n",
       " 'As we all know, the last eight months had been very difficult, and we wish him well',\n",
       " 'Next, we have the approval of the minutes from July 19th',\n",
       " 'Can I have a mover in a second, please? Councillor Fuel, Councillor Burdine',\n",
       " 'Whereas minutes of the council meeting held on July 19th, 2022 have been previously distributed to council, be resolved that the same be and are hereby approved',\n",
       " 'Thank you, so there any amendments from council to the minutes',\n",
       " 'All those in favor? Carried 4-0',\n",
       " 'Next, we have question period',\n",
       " \"So if there's anybody in the online gallery or here in person that has any questions regarding the current agenda, please unmute yourself\",\n",
       " 'Okay, we will move on to the May financial statement',\n",
       " 'Could have a move on a seconder, please? Councilor Burdine, Councilor Belke',\n",
       " 'Be resolved that the May financial statements be approved as presented',\n",
       " 'Thank you',\n",
       " 'Is there any further discussion from Council? All those in favor, carry four zero',\n",
       " 'Next we have the 2023 Board of Revision appointments',\n",
       " \"So I'm going to appoint Council Verdeen and Councilor Fuel\",\n",
       " 'These can be changed close to the date if needed',\n",
       " 'Can I have a move on a seconder please? Council RELP',\n",
       " 'Councilor Fuel',\n",
       " 'Be resolved that the RM Springfield 2023 Board of Revisions be held November 17, 2020, 17th, 2022 and be further resolved that the board be composed as the following',\n",
       " 'Chair, Doug Shaver',\n",
       " 'Councillor Fuel',\n",
       " 'Councillor Fuehl',\n",
       " 'Councilor Breedne',\n",
       " 'Thank you',\n",
       " 'Is there any further discussion from council? All those in favor? Carried 4-0',\n",
       " 'Next we have',\n",
       " 'Just to add to that last one, and Secretary is Erica Wood',\n",
       " 'Thank you',\n",
       " 'Next, we have a night with the the Stars Gala sponsorship',\n",
       " \"So we've talked about this at our last council meeting\",\n",
       " 'We want to support this organization',\n",
       " 'They do great work in keeping our residents safe and coming out here when there are emergencies',\n",
       " 'So are we amending the resolution or putting through a new resolution, Blink? This looks like a new resolution',\n",
       " 'Okay',\n",
       " 'Can I have a move on a seconder, please? Council Rolke, Council Verdeen',\n",
       " 'He resolved the council of their rural municipality Springfield authorized administrations purchased 16 tickets, two tables of eight for a total of $3,600',\n",
       " 'Thank you',\n",
       " 'And this goes to support stars and the work that they do in our municipality and across Manitoba',\n",
       " 'Is there any further discussion from council? All those in favor? Carrey poor zero',\n",
       " 'Next, we have the 2023 Canada Winter Games request',\n",
       " 'This would be from our ward appropriations',\n",
       " \"So in that ward appropriation, we're going to reallocate Councilor Williams' ward appropriation equally between the four members of council\",\n",
       " \"And then we will assign, I'll ask council if they want to contribute towards this request\",\n",
       " 'for the 2023 Canada Winter Games',\n",
       " 'So can I have a mover in a seconder, please? Councillor RELC, Councillor Fuell',\n",
       " 'Be resolved that the council of the Rural Municipal and Springfield approved to split the remaining board appropriations equally from Ward 5 to the remaining council members',\n",
       " \"Okay, and then I think 250, do you want to separate the two or do them in the two? Okay, so we'll separate and we'll do two separate resolutions\",\n",
       " 'Is there any further discussion on that resolution from council? All those in favor? Carried 4-0',\n",
       " 'Now we will do the actual 2023 Canada Winter Games request',\n",
       " 'Can I have a mover in a second here, please? Councilor Fuel, Councillor Rauke',\n",
       " 'Be resolved to council of the municipality of Springfield',\n",
       " 'I agree to participate with sponsorship to the 2023 Canada Games with donations of $250 each from word appropriations from Ward 1, word 2, word 4, and mayor',\n",
       " 'Thank you',\n",
       " 'Is there any further discussion from council? All those in favor? Carried 4-0',\n",
       " 'Next we have the S-H-H-I appointment',\n",
       " 'Can I have a move on a seconder, please? Councilor Burdine? Councilor Fuel',\n",
       " \"You're muted, Blame, sorry\",\n",
       " 'Be it resolved that the council of the RM Springfield approve, Councillor Bredeem and Councillor Fuele to the S-H-H-H-I',\n",
       " \"No, sorry, it's actually Councilor Rolke\",\n",
       " 'Sorry, Councillor Routhey to, is S-H-H-I board appointment',\n",
       " 'You scared',\n",
       " 'Sorry, are we? Sorry, are we? Thank you',\n",
       " 'Is there any further discussion from council? All those in favor? Carried 4-0',\n",
       " 'I will be reviewing any other board appointments that need to be changed with the CAO, and then anything else that needs to come forward will come forward on the next council meeting',\n",
       " 'Can I have a mover and second or to adjourn, please? Councillor Burdine, Councilor Ralecki, all those in favor, meeting adjourned.']"
      ]
     },
     "execution_count": 8,
     "metadata": {},
     "output_type": "execute_result"
    }
   ],
   "source": [
    "list_result"
   ]
  },
  {
   "cell_type": "code",
   "execution_count": null,
   "id": "a60b94b3",
   "metadata": {},
   "outputs": [],
   "source": []
  }
 ],
 "metadata": {
  "kernelspec": {
   "display_name": "da_datascience_v0.2.0",
   "language": "python",
   "name": "python3"
  },
  "language_info": {
   "codemirror_mode": {
    "name": "ipython",
    "version": 3
   },
   "file_extension": ".py",
   "mimetype": "text/x-python",
   "name": "python",
   "nbconvert_exporter": "python",
   "pygments_lexer": "ipython3",
   "version": "3.12.0"
  }
 },
 "nbformat": 4,
 "nbformat_minor": 5
}
