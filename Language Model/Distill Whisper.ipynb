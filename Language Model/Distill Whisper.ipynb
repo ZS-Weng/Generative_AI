{
 "cells": [
  {
   "cell_type": "markdown",
   "id": "016a6842-d69b-419b-9d8e-ad48fc895419",
   "metadata": {},
   "source": [
    "## Steps Involved in the setup\n",
    "\n",
    "1. Install librosa with conda install > There might be an error where the soundfile could not be found\n",
    "2. pip uninstall soundfile\n",
    "3. pip install soundfile"
   ]
  },
  {
   "cell_type": "code",
   "execution_count": 1,
   "id": "9fc18247-31aa-48b3-8a2b-9dfee4968fee",
   "metadata": {},
   "outputs": [],
   "source": [
    "from huggingface_hub import hf_hub_download\n",
    "from huggingface_hub import list_repo_files"
   ]
  },
  {
   "cell_type": "code",
   "execution_count": 2,
   "id": "5db7a4ce-6196-4c46-8a27-397fb5e70116",
   "metadata": {},
   "outputs": [],
   "source": [
    "# Replace 'model_id' with the ID of the model you want to download\n",
    "model_id = \"distil-whisper/distil-large-v3\"\n",
    "\n",
    "# List all files in the repository\n",
    "files = list_repo_files(repo_id=model_id)"
   ]
  },
  {
   "cell_type": "markdown",
   "id": "e17aecb5-2b89-4280-8739-8d0f6cfef792",
   "metadata": {},
   "source": [
    "# Download each file\n",
    "local_dir = \"C:/Users/wengz/Desktop/model_weights/distil-whisper/distil-large-v3\"\n",
    "for file in files:\n",
    "    file_path = hf_hub_download(repo_id=model_id, filename=file,local_dir=local_dir)\n",
    "    print(f\"Downloaded {file} to {file_path}\")"
   ]
  },
  {
   "cell_type": "code",
   "execution_count": 7,
   "id": "32741f2b-22c9-4540-9ba5-0cf5ef04a228",
   "metadata": {},
   "outputs": [],
   "source": [
    "import os\n",
    "\n",
    "# Replace with the path to your ffmpeg binary\n",
    "os.environ[\"PATH\"] += os.pathsep + \"C:/ffmpeg/bin\""
   ]
  },
  {
   "cell_type": "code",
   "execution_count": 3,
   "id": "03f0b683-6519-45ec-a86d-0961a1a27c1a",
   "metadata": {},
   "outputs": [
    {
     "name": "stdout",
     "output_type": "stream",
     "text": [
      "['soundfile']\n"
     ]
    }
   ],
   "source": [
    "import torchaudio\n",
    "print(torchaudio.list_audio_backends())"
   ]
  },
  {
   "cell_type": "code",
   "execution_count": 4,
   "id": "e286746a-d19b-488e-a4ee-3d6f9e1806c5",
   "metadata": {},
   "outputs": [],
   "source": [
    "import librosa\n",
    "\n",
    "# Load and preprocess audio file\n",
    "audio_file = \"C:/Users/wengz/Desktop/Council Meeting - July 26, 2022.mp3\"\n",
    "audio_input, _ = librosa.load(audio_file, sr=16000)"
   ]
  },
  {
   "cell_type": "code",
   "execution_count": 5,
   "id": "5a97cf5c-6f18-4bf2-acdc-60be9fdb57b4",
   "metadata": {},
   "outputs": [
    {
     "name": "stdout",
     "output_type": "stream",
     "text": [
      "Available audioread backends:\n",
      "<class 'audioread.rawread.RawAudioFile'>\n",
      "<class 'audioread.ffdec.FFmpegAudioFile'>\n"
     ]
    }
   ],
   "source": [
    "import audioread\n",
    "\n",
    "# Check which backend `audioread` is using\n",
    "print(\"Available audioread backends:\")\n",
    "for backend in audioread.available_backends():\n",
    "    print(backend)"
   ]
  },
  {
   "cell_type": "markdown",
   "id": "d44bf28a-9f43-4dab-8eef-1f4e38b4bf5a",
   "metadata": {},
   "source": [
    "# Load audio using torchaudio\n",
    "audio_file = \"C:/Users/wengz/Desktop/2024-09-26 Planning Meeting.mp3\"\n",
    "waveform, sample_rate = torchaudio.load(audio_file)\n",
    "\n",
    "# Resample if necessary (Whisper requires 16kHz)\n",
    "resampler = torchaudio.transforms.Resample(orig_freq=sample_rate, new_freq=16000)\n",
    "waveform = resampler(waveform)"
   ]
  },
  {
   "cell_type": "code",
   "execution_count": 6,
   "id": "4954033b-c46e-4032-a9a4-34c27eb29669",
   "metadata": {},
   "outputs": [
    {
     "name": "stderr",
     "output_type": "stream",
     "text": [
      "c:\\Users\\wengz\\miniforge3\\envs\\ds_gpu\\Lib\\site-packages\\transformers\\models\\whisper\\generation_whisper.py:496: FutureWarning: The input name `inputs` is deprecated. Please make sure to use `input_features` instead.\n",
      "  warnings.warn(\n",
      "You have passed task=transcribe, but also have set `forced_decoder_ids` to [[1, None], [2, 50360]] which creates a conflict. `forced_decoder_ids` will be ignored in favor of task=transcribe.\n",
      "c:\\Users\\wengz\\miniforge3\\envs\\ds_gpu\\Lib\\site-packages\\transformers\\models\\whisper\\modeling_whisper.py:599: UserWarning: 1Torch was not compiled with flash attention. (Triggered internally at C:\\cb\\pytorch_1000000000000\\work\\aten\\src\\ATen\\native\\transformers\\cuda\\sdp_utils.cpp:555.)\n",
      "  attn_output = torch.nn.functional.scaled_dot_product_attention(\n"
     ]
    },
    {
     "name": "stdout",
     "output_type": "stream",
     "text": [
      " Being that it is 1 p.m. I will call the council meeting to order. Before we move forward with the approval of the, well, maybe I'll do the approval of the agenda first. Can I have a mover and seconder for the approval of the agenda please? Councillor Rolke, Councillor Fuel. Be resolved that the agenda for July 26th, council meeting be approved. Thank you. Is there any additions from council? I have SHH appointment. And I also have, with ward appropriations, we have two resolutions for that, just so council knows. Is there anything else? All those in favor? Carried were zero. So before we move on to the minutes, I do have a statement to read on behalf of Councilor Williams. So before we begin the meeting, I would like to take a moment to speak about Councilor Williams, due to both his personal health and extenuating circumstances over the last eight months, effective immediately, Council Williams has resigned from his position. On behalf of Council Administration and the public, I want to thank him for his contributions to Springfield, including bringing forward issues for discussion with Council that helped increase the safety of our residents. As we all know, the last eight months had been very difficult, and we wish him well. Next, we have the approval of the minutes from July 19th. Can I have a mover in a second, please? Councillor Fuel, Councillor Burdine. Whereas minutes of the council meeting held on July 19th, 2022 have been previously distributed to council, be resolved that the same be and are hereby approved. Thank you, so there any amendments from council to the minutes. All those in favor? Carried 4-0. Next, we have question period. So if there's anybody in the online gallery or here in person that has any questions regarding the current agenda, please unmute yourself. Okay, we will move on to the May financial statement. Could have a move on a seconder, please? Councilor Burdine, Councilor Belke. Be resolved that the May financial statements be approved as presented. Thank you. Is there any further discussion from Council? All those in favor, carry four zero. Next we have the 2023 Board of Revision appointments. So I'm going to appoint Council Verdeen and Councilor Fuel. These can be changed close to the date if needed. Can I have a move on a seconder please? Council RELP. Councilor Fuel. Be resolved that the RM Springfield 2023 Board of Revisions be held November 17, 2020, 17th, 2022 and be further resolved that the board be composed as the following. Chair, Doug Shaver. Councillor Fuel. Councillor Fuehl. Councilor Breedne. Thank you. Is there any further discussion from council? All those in favor? Carried 4-0. Next we have. Just to add to that last one, and Secretary is Erica Wood. Thank you. Next, we have a night with the the Stars Gala sponsorship. So we've talked about this at our last council meeting. We want to support this organization. They do great work in keeping our residents safe and coming out here when there are emergencies. So are we amending the resolution or putting through a new resolution, Blink? This looks like a new resolution. Okay. Can I have a move on a seconder, please? Council Rolke, Council Verdeen. He resolved the council of their rural municipality Springfield authorized administrations purchased 16 tickets, two tables of eight for a total of $3,600. Thank you. And this goes to support stars and the work that they do in our municipality and across Manitoba. Is there any further discussion from council? All those in favor? Carrey poor zero. Next, we have the 2023 Canada Winter Games request. This would be from our ward appropriations. So in that ward appropriation, we're going to reallocate Councilor Williams' ward appropriation equally between the four members of council. And then we will assign, I'll ask council if they want to contribute towards this request. for the 2023 Canada Winter Games. So can I have a mover in a seconder, please? Councillor RELC, Councillor Fuell. Be resolved that the council of the Rural Municipal and Springfield approved to split the remaining board appropriations equally from Ward 5 to the remaining council members. Okay, and then I think 250, do you want to separate the two or do them in the two? Okay, so we'll separate and we'll do two separate resolutions. Is there any further discussion on that resolution from council? All those in favor? Carried 4-0. Now we will do the actual 2023 Canada Winter Games request. Can I have a mover in a second here, please? Councilor Fuel, Councillor Rauke. Be resolved to council of the municipality of Springfield. I agree to participate with sponsorship to the 2023 Canada Games with donations of $250 each from word appropriations from Ward 1, word 2, word 4, and mayor. Thank you. Is there any further discussion from council? All those in favor? Carried 4-0. Next we have the S-H-H-I appointment. Can I have a move on a seconder, please? Councilor Burdine? Councilor Fuel. You're muted, Blame, sorry. Be it resolved that the council of the RM Springfield approve, Councillor Bredeem and Councillor Fuele to the S-H-H-H-I. No, sorry, it's actually Councilor Rolke. Sorry, Councillor Routhey to, is S-H-H-I board appointment. You scared. Sorry, are we? Sorry, are we? Thank you. Is there any further discussion from council? All those in favor? Carried 4-0. I will be reviewing any other board appointments that need to be changed with the CAO, and then anything else that needs to come forward will come forward on the next council meeting. Can I have a mover and second or to adjourn, please? Councillor Burdine, Councilor Ralecki, all those in favor, meeting adjourned.\n"
     ]
    }
   ],
   "source": [
    "import torch\n",
    "from transformers import AutoModelForSpeechSeq2Seq, AutoProcessor, pipeline\n",
    "from datasets import load_dataset\n",
    "\n",
    "device = \"cuda:0\" if torch.cuda.is_available() else \"cpu\"\n",
    "# torch_dtype = torch.float16 if torch.cuda.is_available() else torch.float32\n",
    "torch_dtype = torch.float16\n",
    "#device = \"cpu\"\n",
    "\n",
    "model_id = \"C:/Users/wengz/Desktop/model_weights/distil-whisper/distil-large-v3\"\n",
    "\n",
    "model = AutoModelForSpeechSeq2Seq.from_pretrained(\n",
    "    model_id, torch_dtype=torch_dtype, low_cpu_mem_usage=True, use_safetensors=True\n",
    ")\n",
    "model.to(device)\n",
    "\n",
    "processor = AutoProcessor.from_pretrained(model_id)\n",
    "\n",
    "pipe = pipeline(\n",
    "    \"automatic-speech-recognition\",\n",
    "    model=model,\n",
    "    tokenizer=processor.tokenizer,\n",
    "    feature_extractor=processor.feature_extractor,\n",
    "    torch_dtype=torch_dtype,\n",
    "    return_timestamps=True,\n",
    "    device=device,\n",
    ")\n",
    "\n",
    "result = pipe(audio_input)\n",
    "print(result[\"text\"])\n"
   ]
  },
  {
   "cell_type": "code",
   "execution_count": 7,
   "id": "a8259524-871e-4ca0-bab0-9b665407cfe1",
   "metadata": {},
   "outputs": [],
   "source": [
    "list_result = result[\"text\"].split(\". \")"
   ]
  },
  {
   "cell_type": "code",
   "execution_count": 8,
   "id": "0e5c1560",
   "metadata": {},
   "outputs": [
    {
     "data": {
      "text/plain": [
       "[' Being that it is 1 p.m',\n",
       " 'I will call the council meeting to order',\n",
       " \"Before we move forward with the approval of the, well, maybe I'll do the approval of the agenda first\",\n",
       " 'Can I have a mover and seconder for the approval of the agenda please? Councillor Rolke, Councillor Fuel',\n",
       " 'Be resolved that the agenda for July 26th, council meeting be approved',\n",
       " 'Thank you',\n",
       " 'Is there any additions from council? I have SHH appointment',\n",
       " 'And I also have, with ward appropriations, we have two resolutions for that, just so council knows',\n",
       " 'Is there anything else? All those in favor? Carried were zero',\n",
       " 'So before we move on to the minutes, I do have a statement to read on behalf of Councilor Williams',\n",
       " 'So before we begin the meeting, I would like to take a moment to speak about Councilor Williams, due to both his personal health and extenuating circumstances over the last eight months, effective immediately, Council Williams has resigned from his position',\n",
       " 'On behalf of Council Administration and the public, I want to thank him for his contributions to Springfield, including bringing forward issues for discussion with Council that helped increase the safety of our residents',\n",
       " 'As we all know, the last eight months had been very difficult, and we wish him well',\n",
       " 'Next, we have the approval of the minutes from July 19th',\n",
       " 'Can I have a mover in a second, please? Councillor Fuel, Councillor Burdine',\n",
       " 'Whereas minutes of the council meeting held on July 19th, 2022 have been previously distributed to council, be resolved that the same be and are hereby approved',\n",
       " 'Thank you, so there any amendments from council to the minutes',\n",
       " 'All those in favor? Carried 4-0',\n",
       " 'Next, we have question period',\n",
       " \"So if there's anybody in the online gallery or here in person that has any questions regarding the current agenda, please unmute yourself\",\n",
       " 'Okay, we will move on to the May financial statement',\n",
       " 'Could have a move on a seconder, please? Councilor Burdine, Councilor Belke',\n",
       " 'Be resolved that the May financial statements be approved as presented',\n",
       " 'Thank you',\n",
       " 'Is there any further discussion from Council? All those in favor, carry four zero',\n",
       " 'Next we have the 2023 Board of Revision appointments',\n",
       " \"So I'm going to appoint Council Verdeen and Councilor Fuel\",\n",
       " 'These can be changed close to the date if needed',\n",
       " 'Can I have a move on a seconder please? Council RELP',\n",
       " 'Councilor Fuel',\n",
       " 'Be resolved that the RM Springfield 2023 Board of Revisions be held November 17, 2020, 17th, 2022 and be further resolved that the board be composed as the following',\n",
       " 'Chair, Doug Shaver',\n",
       " 'Councillor Fuel',\n",
       " 'Councillor Fuehl',\n",
       " 'Councilor Breedne',\n",
       " 'Thank you',\n",
       " 'Is there any further discussion from council? All those in favor? Carried 4-0',\n",
       " 'Next we have',\n",
       " 'Just to add to that last one, and Secretary is Erica Wood',\n",
       " 'Thank you',\n",
       " 'Next, we have a night with the the Stars Gala sponsorship',\n",
       " \"So we've talked about this at our last council meeting\",\n",
       " 'We want to support this organization',\n",
       " 'They do great work in keeping our residents safe and coming out here when there are emergencies',\n",
       " 'So are we amending the resolution or putting through a new resolution, Blink? This looks like a new resolution',\n",
       " 'Okay',\n",
       " 'Can I have a move on a seconder, please? Council Rolke, Council Verdeen',\n",
       " 'He resolved the council of their rural municipality Springfield authorized administrations purchased 16 tickets, two tables of eight for a total of $3,600',\n",
       " 'Thank you',\n",
       " 'And this goes to support stars and the work that they do in our municipality and across Manitoba',\n",
       " 'Is there any further discussion from council? All those in favor? Carrey poor zero',\n",
       " 'Next, we have the 2023 Canada Winter Games request',\n",
       " 'This would be from our ward appropriations',\n",
       " \"So in that ward appropriation, we're going to reallocate Councilor Williams' ward appropriation equally between the four members of council\",\n",
       " \"And then we will assign, I'll ask council if they want to contribute towards this request\",\n",
       " 'for the 2023 Canada Winter Games',\n",
       " 'So can I have a mover in a seconder, please? Councillor RELC, Councillor Fuell',\n",
       " 'Be resolved that the council of the Rural Municipal and Springfield approved to split the remaining board appropriations equally from Ward 5 to the remaining council members',\n",
       " \"Okay, and then I think 250, do you want to separate the two or do them in the two? Okay, so we'll separate and we'll do two separate resolutions\",\n",
       " 'Is there any further discussion on that resolution from council? All those in favor? Carried 4-0',\n",
       " 'Now we will do the actual 2023 Canada Winter Games request',\n",
       " 'Can I have a mover in a second here, please? Councilor Fuel, Councillor Rauke',\n",
       " 'Be resolved to council of the municipality of Springfield',\n",
       " 'I agree to participate with sponsorship to the 2023 Canada Games with donations of $250 each from word appropriations from Ward 1, word 2, word 4, and mayor',\n",
       " 'Thank you',\n",
       " 'Is there any further discussion from council? All those in favor? Carried 4-0',\n",
       " 'Next we have the S-H-H-I appointment',\n",
       " 'Can I have a move on a seconder, please? Councilor Burdine? Councilor Fuel',\n",
       " \"You're muted, Blame, sorry\",\n",
       " 'Be it resolved that the council of the RM Springfield approve, Councillor Bredeem and Councillor Fuele to the S-H-H-H-I',\n",
       " \"No, sorry, it's actually Councilor Rolke\",\n",
       " 'Sorry, Councillor Routhey to, is S-H-H-I board appointment',\n",
       " 'You scared',\n",
       " 'Sorry, are we? Sorry, are we? Thank you',\n",
       " 'Is there any further discussion from council? All those in favor? Carried 4-0',\n",
       " 'I will be reviewing any other board appointments that need to be changed with the CAO, and then anything else that needs to come forward will come forward on the next council meeting',\n",
       " 'Can I have a mover and second or to adjourn, please? Councillor Burdine, Councilor Ralecki, all those in favor, meeting adjourned.']"
      ]
     },
     "execution_count": 8,
     "metadata": {},
     "output_type": "execute_result"
    }
   ],
   "source": [
    "list_result"
   ]
  },
  {
   "cell_type": "code",
   "execution_count": null,
   "id": "a60b94b3",
   "metadata": {},
   "outputs": [],
   "source": []
  }
 ],
 "metadata": {
  "kernelspec": {
   "display_name": "ds_gpu",
   "language": "python",
   "name": "ds_gpu"
  },
  "language_info": {
   "codemirror_mode": {
    "name": "ipython",
    "version": 3
   },
   "file_extension": ".py",
   "mimetype": "text/x-python",
   "name": "python",
   "nbconvert_exporter": "python",
   "pygments_lexer": "ipython3",
   "version": "3.12.4"
  }
 },
 "nbformat": 4,
 "nbformat_minor": 5
}
