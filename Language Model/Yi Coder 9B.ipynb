{
 "cells": [
  {
   "cell_type": "code",
   "execution_count": 1,
   "id": "43f88be8-062f-4bc5-b28e-f2cb68f1584f",
   "metadata": {},
   "outputs": [],
   "source": [
    "import torch"
   ]
  },
  {
   "cell_type": "code",
   "execution_count": 2,
   "id": "1a0834e5-780b-4281-97f9-8c9305d65f66",
   "metadata": {},
   "outputs": [
    {
     "data": {
      "text/plain": [
       "True"
      ]
     },
     "execution_count": 2,
     "metadata": {},
     "output_type": "execute_result"
    }
   ],
   "source": [
    "torch.cuda.is_available()"
   ]
  },
  {
   "cell_type": "code",
   "execution_count": 3,
   "id": "b36d78c5-38e9-4e8d-b076-f1e41cc7a4a6",
   "metadata": {},
   "outputs": [],
   "source": [
    "from pathlib import Path"
   ]
  },
  {
   "cell_type": "code",
   "execution_count": 4,
   "id": "e9c73f34",
   "metadata": {},
   "outputs": [],
   "source": [
    "from huggingface_hub import hf_hub_download\n",
    "from huggingface_hub import list_repo_files"
   ]
  },
  {
   "cell_type": "code",
   "execution_count": 5,
   "id": "ba0b6029",
   "metadata": {},
   "outputs": [],
   "source": [
    "# Replace 'model_id' with the ID of the model you want to download\n",
    "model_id = \"01-ai/Yi-Coder-9B-Chat\"\n",
    "\n",
    "# List all files in the repository\n",
    "files = list_repo_files(repo_id=model_id)"
   ]
  },
  {
   "cell_type": "code",
   "execution_count": 6,
   "id": "e6f025a2",
   "metadata": {},
   "outputs": [
    {
     "data": {
      "application/vnd.jupyter.widget-view+json": {
       "model_id": "6fb54bbaaf6941c5a61686f6917e94e6",
       "version_major": 2,
       "version_minor": 0
      },
      "text/plain": [
       ".gitattributes:   0%|          | 0.00/1.52k [00:00<?, ?B/s]"
      ]
     },
     "metadata": {},
     "output_type": "display_data"
    },
    {
     "name": "stdout",
     "output_type": "stream",
     "text": [
      "Downloaded .gitattributes to C:\\Users\\wengz\\Desktop\\model_weights\\01-ai\\Yi-Coder-9B-Chat\\.gitattributes\n"
     ]
    },
    {
     "data": {
      "application/vnd.jupyter.widget-view+json": {
       "model_id": "f3518a42dcca4b148523de00767439d9",
       "version_major": 2,
       "version_minor": 0
      },
      "text/plain": [
       "README.md:   0%|          | 0.00/5.18k [00:00<?, ?B/s]"
      ]
     },
     "metadata": {},
     "output_type": "display_data"
    },
    {
     "name": "stdout",
     "output_type": "stream",
     "text": [
      "Downloaded README.md to C:\\Users\\wengz\\Desktop\\model_weights\\01-ai\\Yi-Coder-9B-Chat\\README.md\n",
      "Downloaded config.json to C:\\Users\\wengz\\Desktop\\model_weights\\01-ai\\Yi-Coder-9B-Chat\\config.json\n",
      "Downloaded generation_config.json to C:\\Users\\wengz\\Desktop\\model_weights\\01-ai\\Yi-Coder-9B-Chat\\generation_config.json\n",
      "Downloaded model-00001-of-00004.safetensors to C:\\Users\\wengz\\Desktop\\model_weights\\01-ai\\Yi-Coder-9B-Chat\\model-00001-of-00004.safetensors\n",
      "Downloaded model-00002-of-00004.safetensors to C:\\Users\\wengz\\Desktop\\model_weights\\01-ai\\Yi-Coder-9B-Chat\\model-00002-of-00004.safetensors\n",
      "Downloaded model-00003-of-00004.safetensors to C:\\Users\\wengz\\Desktop\\model_weights\\01-ai\\Yi-Coder-9B-Chat\\model-00003-of-00004.safetensors\n",
      "Downloaded model-00004-of-00004.safetensors to C:\\Users\\wengz\\Desktop\\model_weights\\01-ai\\Yi-Coder-9B-Chat\\model-00004-of-00004.safetensors\n",
      "Downloaded model.safetensors.index.json to C:\\Users\\wengz\\Desktop\\model_weights\\01-ai\\Yi-Coder-9B-Chat\\model.safetensors.index.json\n",
      "Downloaded special_tokens_map.json to C:\\Users\\wengz\\Desktop\\model_weights\\01-ai\\Yi-Coder-9B-Chat\\special_tokens_map.json\n",
      "Downloaded tokenizer.model to C:\\Users\\wengz\\Desktop\\model_weights\\01-ai\\Yi-Coder-9B-Chat\\tokenizer.model\n",
      "Downloaded tokenizer_config.json to C:\\Users\\wengz\\Desktop\\model_weights\\01-ai\\Yi-Coder-9B-Chat\\tokenizer_config.json\n"
     ]
    }
   ],
   "source": [
    "# Download each file\n",
    "local_dir = \"C:/Users/wengz/Desktop/model_weights/01-ai/Yi-Coder-9B-Chat\"\n",
    "for file in files:\n",
    "    file_path = hf_hub_download(repo_id=model_id, filename=file,local_dir=local_dir)\n",
    "    print(f\"Downloaded {file} to {file_path}\")"
   ]
  },
  {
   "cell_type": "code",
   "execution_count": 7,
   "id": "e26c6829-2aa5-4522-a8b7-5ad71dce61e9",
   "metadata": {},
   "outputs": [
    {
     "data": {
      "application/vnd.jupyter.widget-view+json": {
       "model_id": "289e81d3ac3e4cc4a5f9c6b48b6e038b",
       "version_major": 2,
       "version_minor": 0
      },
      "text/plain": [
       "Loading checkpoint shards:   0%|          | 0/4 [00:00<?, ?it/s]"
      ]
     },
     "metadata": {},
     "output_type": "display_data"
    },
    {
     "name": "stderr",
     "output_type": "stream",
     "text": [
      "Some parameters are on the meta device because they were offloaded to the disk and cpu.\n"
     ]
    }
   ],
   "source": [
    "from transformers import AutoTokenizer, AutoModelForCausalLM\n",
    "\n",
    "device = \"cuda\" # the device to load the model onto\n",
    "model_path = \"C:/Users/wengz/Desktop/model_weights/01-ai/Yi-Coder-9B-Chat\"\n",
    "\n",
    "tokenizer = AutoTokenizer.from_pretrained(model_path)\n",
    "model = AutoModelForCausalLM.from_pretrained(model_path, device_map=\"auto\").eval()"
   ]
  },
  {
   "cell_type": "markdown",
   "id": "445536cc-f704-49c1-9d68-02cdad2929d7",
   "metadata": {},
   "source": [
    "### To Do: Fill up on details on how to use Yi Coder 9B"
   ]
  }
 ],
 "metadata": {
  "kernelspec": {
   "display_name": "Python 3",
   "language": "python",
   "name": "python3"
  },
  "language_info": {
   "codemirror_mode": {
    "name": "ipython",
    "version": 3
   },
   "file_extension": ".py",
   "mimetype": "text/x-python",
   "name": "python",
   "nbconvert_exporter": "python",
   "pygments_lexer": "ipython3",
   "version": "3.12.4"
  }
 },
 "nbformat": 4,
 "nbformat_minor": 5
}
