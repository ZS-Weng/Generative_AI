{
 "cells": [
  {
   "cell_type": "code",
   "execution_count": 1,
   "metadata": {},
   "outputs": [],
   "source": [
    "tasks = []\n",
    "\n",
    "def add_task(task):\n",
    "    tasks.append(task)\n",
    "    return f\"Task '{task}' added.\"\n",
    "\n",
    "def remove_task(task):\n",
    "    if task in tasks:\n",
    "        tasks.remove(task)\n",
    "        return f\"Task '{task}' removed.\"\n",
    "    else:\n",
    "        return \"Task not found.\"\n",
    "\n",
    "def list_tasks():\n",
    "    return tasks\n"
   ]
  },
  {
   "cell_type": "code",
   "execution_count": 3,
   "metadata": {},
   "outputs": [
    {
     "name": "stderr",
     "output_type": "stream",
     "text": [
      "........\n",
      "----------------------------------------------------------------------\n",
      "Ran 8 tests in 0.003s\n",
      "\n",
      "OK\n"
     ]
    },
    {
     "data": {
      "text/plain": [
       "<unittest.runner.TextTestResult run=8 errors=0 failures=0>"
      ]
     },
     "execution_count": 3,
     "metadata": {},
     "output_type": "execute_result"
    }
   ],
   "source": [
    "import unittest\n",
    "\n",
    "class TestTaskManager(unittest.TestCase):\n",
    "    \n",
    "    def setUp(self):\n",
    "        # Reset the global tasks list before every test\n",
    "        global tasks\n",
    "        tasks = []\n",
    "\n",
    "    def test_add_task(self):\n",
    "        \"\"\"Test adding a task.\"\"\"\n",
    "        result = add_task(\"Task 1\")\n",
    "        self.assertEqual(result, \"Task 'Task 1' added.\")\n",
    "        self.assertIn(\"Task 1\", list_tasks())\n",
    "\n",
    "    def test_remove_task(self):\n",
    "        \"\"\"Test removing a task that exists.\"\"\"\n",
    "        add_task(\"Task 1\")\n",
    "        result = remove_task(\"Task 1\")\n",
    "        self.assertEqual(result, \"Task 'Task 1' removed.\")\n",
    "        self.assertNotIn(\"Task 1\", list_tasks())\n",
    "\n",
    "    def test_remove_task_not_found(self):\n",
    "        \"\"\"Test removing a task that doesn't exist.\"\"\"\n",
    "        result = remove_task(\"Nonexistent Task\")\n",
    "        self.assertEqual(result, \"Task not found.\")\n",
    "\n",
    "    def test_list_tasks(self):\n",
    "        \"\"\"Test listing tasks.\"\"\"\n",
    "        add_task(\"Task 1\")\n",
    "        add_task(\"Task 2\")\n",
    "        self.assertEqual(list_tasks(), [\"Task 1\", \"Task 2\"])\n",
    "\n",
    "    def test_add_duplicate_tasks(self):\n",
    "        \"\"\"Test adding duplicate tasks.\"\"\"\n",
    "        add_task(\"Task 1\")\n",
    "        add_task(\"Task 1\")  # Adding the same task again\n",
    "        self.assertEqual(list_tasks(), [\"Task 1\", \"Task 1\"])\n",
    "\n",
    "    def test_remove_one_duplicate_task(self):\n",
    "        \"\"\"Test removing one instance of a duplicate task.\"\"\"\n",
    "        add_task(\"Task 1\")\n",
    "        add_task(\"Task 1\")  # Add duplicate task\n",
    "        remove_task(\"Task 1\")  # Remove one instance\n",
    "        self.assertEqual(list_tasks(), [\"Task 1\"])  # One should remain\n",
    "    \n",
    "    def test_empty_task_name(self):\n",
    "        \"\"\"Test adding and removing an empty task.\"\"\"\n",
    "        add_task(\"\")\n",
    "        self.assertIn(\"\", list_tasks())\n",
    "        remove_task(\"\")\n",
    "        self.assertNotIn(\"\", list_tasks())\n",
    "    \n",
    "    def test_case_sensitivity(self):\n",
    "        \"\"\"Test case sensitivity when adding and removing tasks.\"\"\"\n",
    "        add_task(\"Task\")\n",
    "        add_task(\"task\")\n",
    "        self.assertIn(\"Task\", list_tasks())\n",
    "        self.assertIn(\"task\", list_tasks())\n",
    "        remove_task(\"Task\")\n",
    "        self.assertNotIn(\"Task\", list_tasks())\n",
    "        self.assertIn(\"task\", list_tasks())\n",
    "\n",
    "# Run the tests within the notebook\n",
    "unittest.TextTestRunner().run(unittest.TestLoader().loadTestsFromTestCase(TestTaskManager))\n",
    "\n",
    "# This is necessary to run the tests when the script is executed directly\n",
    "# if __name__ == '__main__':\n",
    "#     unittest.main()\n"
   ]
  },
  {
   "cell_type": "code",
   "execution_count": null,
   "metadata": {},
   "outputs": [],
   "source": []
  }
 ],
 "metadata": {
  "kernelspec": {
   "display_name": "Python 3",
   "language": "python",
   "name": "python3"
  },
  "language_info": {
   "codemirror_mode": {
    "name": "ipython",
    "version": 3
   },
   "file_extension": ".py",
   "mimetype": "text/x-python",
   "name": "python",
   "nbconvert_exporter": "python",
   "pygments_lexer": "ipython3",
   "version": "3.12.4"
  }
 },
 "nbformat": 4,
 "nbformat_minor": 2
}
