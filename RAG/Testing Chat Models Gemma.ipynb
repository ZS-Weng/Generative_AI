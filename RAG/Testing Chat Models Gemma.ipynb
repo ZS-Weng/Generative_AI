{
 "cells": [
  {
   "cell_type": "code",
   "execution_count": 9,
   "id": "fa450903",
   "metadata": {},
   "outputs": [
    {
     "name": "stdout",
     "output_type": "stream",
     "text": [
      "Please enter access code: ········\n"
     ]
    }
   ],
   "source": [
    "import getpass\n",
    "\n",
    "# Prompt the user for a password without echoing it\n",
    "access_token = getpass.getpass(\"Please enter access code: \")"
   ]
  },
  {
   "cell_type": "code",
   "execution_count": 1,
   "id": "65a371ef",
   "metadata": {
    "scrolled": true
   },
   "outputs": [
    {
     "name": "stderr",
     "output_type": "stream",
     "text": [
      "C:\\Users\\wengz\\anaconda3\\envs\\pytorch_gpu\\Lib\\site-packages\\tqdm\\auto.py:21: TqdmWarning: IProgress not found. Please update jupyter and ipywidgets. See https://ipywidgets.readthedocs.io/en/stable/user_install.html\n",
      "  from .autonotebook import tqdm as notebook_tqdm\n"
     ]
    }
   ],
   "source": [
    "from transformers import AutoTokenizer, AutoModelForCausalLM\n",
    "import torch"
   ]
  },
  {
   "cell_type": "code",
   "execution_count": 11,
   "id": "66e9412a",
   "metadata": {},
   "outputs": [
    {
     "name": "stderr",
     "output_type": "stream",
     "text": [
      "C:\\Users\\wengz\\anaconda3\\envs\\pytorch_gpu\\Lib\\site-packages\\huggingface_hub\\file_download.py:148: UserWarning: `huggingface_hub` cache-system uses symlinks by default to efficiently store duplicated files but your machine does not support them in C:\\Users\\wengz\\.cache\\huggingface\\hub\\models--google--gemma-1.1-2b-it. Caching files will still work but in a degraded version that might require more space on your disk. This warning can be disabled by setting the `HF_HUB_DISABLE_SYMLINKS_WARNING` environment variable. For more details, see https://huggingface.co/docs/huggingface_hub/how-to-cache#limitations.\n",
      "To support symlinks on Windows, you either need to activate Developer Mode or to run Python as an administrator. In order to see activate developer mode, see this article: https://docs.microsoft.com/en-us/windows/apps/get-started/enable-your-device-for-development\n",
      "  warnings.warn(message)\n",
      "Downloading shards: 100%|███████████████████████████████████████████████████████████████| 2/2 [04:26<00:00, 133.22s/it]\n",
      "Loading checkpoint shards: 100%|█████████████████████████████████████████████████████████| 2/2 [00:09<00:00,  4.87s/it]\n"
     ]
    },
    {
     "name": "stdout",
     "output_type": "stream",
     "text": [
      "<bos>Write me a poem about Machine Learning.\n",
      "\n",
      "In circuits of logic, a mind unseen,\n",
      "A tapestry of data, a world serene.\n",
      "Algorithms dance, a symphony of code,\n",
      "Learning from experience, a journey bold.\n",
      "\n",
      "From images and texts, to numbers and graphs,\n",
      "\n"
     ]
    }
   ],
   "source": [
    "tokenizer = AutoTokenizer.from_pretrained(\"google/gemma-1.1-2b-it\", token=access_token)\n",
    "model = AutoModelForCausalLM.from_pretrained(\n",
    "    \"google/gemma-1.1-2b-it\",\n",
    "    torch_dtype=torch.bfloat16,\n",
    "    token=access_token\n",
    ")\n",
    "\n",
    "input_text = \"Write me a poem about Machine Learning.\"\n",
    "input_ids = tokenizer(input_text, return_tensors=\"pt\")\n",
    "\n",
    "outputs = model.generate(**input_ids, max_new_tokens=50)\n",
    "print(tokenizer.decode(outputs[0]))"
   ]
  },
  {
   "cell_type": "code",
   "execution_count": 12,
   "id": "f14467c1",
   "metadata": {},
   "outputs": [
    {
     "data": {
      "text/plain": [
       "('C:/Users/wengz/Desktop/models/google/gemma-1.1-2b-it\\\\tokenizer_config.json',\n",
       " 'C:/Users/wengz/Desktop/models/google/gemma-1.1-2b-it\\\\special_tokens_map.json',\n",
       " 'C:/Users/wengz/Desktop/models/google/gemma-1.1-2b-it\\\\tokenizer.model',\n",
       " 'C:/Users/wengz/Desktop/models/google/gemma-1.1-2b-it\\\\added_tokens.json',\n",
       " 'C:/Users/wengz/Desktop/models/google/gemma-1.1-2b-it\\\\tokenizer.json')"
      ]
     },
     "execution_count": 12,
     "metadata": {},
     "output_type": "execute_result"
    }
   ],
   "source": [
    "tokenizer.save_pretrained(\"C:/Users/wengz/Desktop/models/google/gemma-1.1-2b-it\")"
   ]
  },
  {
   "cell_type": "code",
   "execution_count": 13,
   "id": "62d23453",
   "metadata": {},
   "outputs": [],
   "source": [
    "model.save_pretrained(\"C:/Users/wengz/Desktop/models/google/gemma-1.1-2b-it\")"
   ]
  },
  {
   "cell_type": "code",
   "execution_count": 2,
   "id": "c5b9fd07",
   "metadata": {},
   "outputs": [],
   "source": [
    "tokenizer = AutoTokenizer.from_pretrained(\"C:/Users/wengz/Desktop/models/google/gemma-1.1-2b-it\")"
   ]
  },
  {
   "cell_type": "code",
   "execution_count": 3,
   "id": "58474635",
   "metadata": {},
   "outputs": [
    {
     "name": "stderr",
     "output_type": "stream",
     "text": [
      "Loading checkpoint shards: 100%|█████████████████████████████████████████████████████████| 2/2 [00:05<00:00,  2.58s/it]\n"
     ]
    }
   ],
   "source": [
    "model = AutoModelForCausalLM.from_pretrained(\n",
    "    \"C:/Users/wengz/Desktop/models/google/gemma-1.1-2b-it\",\n",
    "    torch_dtype=torch.bfloat16,\n",
    ")"
   ]
  },
  {
   "cell_type": "code",
   "execution_count": 4,
   "id": "39a6d19e",
   "metadata": {},
   "outputs": [],
   "source": [
    "chat = [\n",
    "    { \"role\": \"user\", \"content\": \"Write a hello world program\" },\n",
    "]\n",
    "prompt = tokenizer.apply_chat_template(chat, tokenize=False, add_generation_prompt=True)"
   ]
  },
  {
   "cell_type": "code",
   "execution_count": 5,
   "id": "fcd592e2",
   "metadata": {},
   "outputs": [],
   "source": [
    "inputs = tokenizer.encode(prompt, add_special_tokens=False, return_tensors=\"pt\")\n",
    "outputs = model.generate(input_ids=inputs.to(model.device), max_new_tokens=1000)"
   ]
  },
  {
   "cell_type": "code",
   "execution_count": 7,
   "id": "d30d72a9",
   "metadata": {},
   "outputs": [
    {
     "name": "stdout",
     "output_type": "stream",
     "text": [
      "<bos><start_of_turn>user\n",
      "Write a hello world program<end_of_turn>\n",
      "<start_of_turn>model\n",
      "```python\n",
      "print(\"Hello, world!\")\n",
      "```\n",
      "\n",
      "**Explanation:**\n",
      "\n",
      "* `print()` is a built-in function in Python that prints the given argument to the terminal.\n",
      "* `Hello, world!` is the actual message that will be printed.\n",
      "\n",
      "**Output:**\n",
      "\n",
      "```\n",
      "Hello, world!\n",
      "```\n",
      "\n",
      "**How it works:**\n",
      "\n",
      "1. The program starts with the `print()` function call.\n",
      "2. The `print()` function takes one or more arguments.\n",
      "3. The arguments are separated by spaces.\n",
      "4. The `print()` function prints each argument on a separate line.\n",
      "\n",
      "**Additional Notes:**\n",
      "\n",
      "* The `print()` function is case-sensitive.\n",
      "* You can also print multiple variables at once by separating them with commas.\n",
      "* The `print()` function can also be used to print formatted data.<eos>\n"
     ]
    }
   ],
   "source": [
    "print(tokenizer.decode(outputs[0]))"
   ]
  },
  {
   "cell_type": "code",
   "execution_count": null,
   "id": "1372cf07",
   "metadata": {},
   "outputs": [],
   "source": []
  }
 ],
 "metadata": {
  "kernelspec": {
   "display_name": "pytorch_gpu",
   "language": "python",
   "name": "pytorch_gpu"
  },
  "language_info": {
   "codemirror_mode": {
    "name": "ipython",
    "version": 3
   },
   "file_extension": ".py",
   "mimetype": "text/x-python",
   "name": "python",
   "nbconvert_exporter": "python",
   "pygments_lexer": "ipython3",
   "version": "3.11.7"
  }
 },
 "nbformat": 4,
 "nbformat_minor": 5
}
