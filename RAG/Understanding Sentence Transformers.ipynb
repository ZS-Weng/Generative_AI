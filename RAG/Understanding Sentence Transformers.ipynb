{
 "cells": [
  {
   "cell_type": "code",
   "execution_count": 6,
   "id": "42cf67b7",
   "metadata": {},
   "outputs": [],
   "source": [
    "from sentence_transformers import SentenceTransformer, util"
   ]
  },
  {
   "cell_type": "code",
   "execution_count": 3,
   "id": "680b3347",
   "metadata": {},
   "outputs": [],
   "source": [
    "# Initialize the model\n",
    "model = SentenceTransformer('all-MiniLM-L6-v2')"
   ]
  },
  {
   "cell_type": "code",
   "execution_count": 16,
   "id": "eb74342a",
   "metadata": {},
   "outputs": [
    {
     "name": "stdout",
     "output_type": "stream",
     "text": [
      "The forecast predicts heavy rain for the entire week.\n",
      "A week of intense rainfall is expected according to the weather report.\n",
      "Score: 0.8231\n",
      "\n",
      "The forecast predicts heavy rain for the entire week.\n",
      "Rain drops are falling on my entire heavy week head.\n",
      "Score: 0.5353\n",
      "\n",
      "A week of intense rainfall is expected according to the weather report.\n",
      "Rain drops are falling on my entire heavy week head.\n",
      "Score: 0.5145\n",
      "\n"
     ]
    }
   ],
   "source": [
    "# Example sentences\n",
    "sentences1 = [\n",
    "    \"The forecast predicts heavy rain for the entire week.\",\n",
    "    \"A week of intense rainfall is expected according to the weather report.\",\n",
    "    \"Rain drops are falling on my entire heavy week head.\"\n",
    "]\n",
    "\n",
    "# Generate embeddings\n",
    "embeddings1 = model.encode(sentences1, convert_to_tensor=True)\n",
    "\n",
    "# Compute cosine-similarities\n",
    "cosine_scores = util.cos_sim(embeddings1, embeddings1)\n",
    "\n",
    "print(f\"{sentences1[0]}\\n{sentences1[1]}\\nScore: {cosine_scores[0][1]:.4f}\\n\")\n",
    "print(f\"{sentences1[0]}\\n{sentences1[2]}\\nScore: {cosine_scores[0][2]:.4f}\\n\")\n",
    "print(f\"{sentences1[1]}\\n{sentences1[2]}\\nScore: {cosine_scores[1][2]:.4f}\\n\")"
   ]
  },
  {
   "cell_type": "code",
   "execution_count": null,
   "id": "a05b55cf",
   "metadata": {},
   "outputs": [],
   "source": []
  }
 ],
 "metadata": {
  "kernelspec": {
   "display_name": "pytorch_gpu",
   "language": "python",
   "name": "pytorch_gpu"
  },
  "language_info": {
   "codemirror_mode": {
    "name": "ipython",
    "version": 3
   },
   "file_extension": ".py",
   "mimetype": "text/x-python",
   "name": "python",
   "nbconvert_exporter": "python",
   "pygments_lexer": "ipython3",
   "version": "3.11.7"
  }
 },
 "nbformat": 4,
 "nbformat_minor": 5
}
