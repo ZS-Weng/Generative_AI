{
 "cells": [
  {
   "cell_type": "code",
   "execution_count": 1,
   "id": "42cf67b7",
   "metadata": {},
   "outputs": [
    {
     "name": "stderr",
     "output_type": "stream",
     "text": [
      "C:\\Users\\wengz\\anaconda3\\envs\\pytorch_gpu\\Lib\\site-packages\\tqdm\\auto.py:21: TqdmWarning: IProgress not found. Please update jupyter and ipywidgets. See https://ipywidgets.readthedocs.io/en/stable/user_install.html\n",
      "  from .autonotebook import tqdm as notebook_tqdm\n"
     ]
    }
   ],
   "source": [
    "from sentence_transformers import SentenceTransformer, util"
   ]
  },
  {
   "cell_type": "code",
   "execution_count": 2,
   "id": "680b3347",
   "metadata": {},
   "outputs": [],
   "source": [
    "# Initialize the model\n",
    "model = SentenceTransformer('all-MiniLM-L6-v2')"
   ]
  },
  {
   "cell_type": "code",
   "execution_count": 6,
   "id": "eb74342a",
   "metadata": {
    "scrolled": true
   },
   "outputs": [
    {
     "name": "stdout",
     "output_type": "stream",
     "text": [
      "The forecast predicts heavy rain for the entire week.\n",
      "A week of intense rainfall is expected according to the weather report.\n",
      "Score: 0.8231\n",
      "\n",
      "The forecast predicts heavy rain for the entire week.\n",
      "The weather outlook indicates a week-long period of intense rainfall.\n",
      "Score: 0.7814\n",
      "\n",
      "The forecast predicts heavy rain for the entire week.\n",
      "The weather report anticipates a complete absence of rainfall throughout the week.\n",
      "Score: 0.6478\n",
      "\n",
      "The forecast predicts heavy rain for the entire week.\n",
      "The forecast predicts no rain for the entire week.\n",
      "Score: 0.7658\n",
      "\n",
      "A week of intense rainfall is expected according to the weather report.\n",
      "The forecast predicts heavy rain for the entire week.\n",
      "Score: 0.8231\n",
      "\n",
      "A week of intense rainfall is expected according to the weather report.\n",
      "The weather outlook indicates a week-long period of intense rainfall.\n",
      "Score: 0.8797\n",
      "\n",
      "A week of intense rainfall is expected according to the weather report.\n",
      "The weather report anticipates a complete absence of rainfall throughout the week.\n",
      "Score: 0.6898\n",
      "\n",
      "A week of intense rainfall is expected according to the weather report.\n",
      "The forecast predicts no rain for the entire week.\n",
      "Score: 0.6273\n",
      "\n",
      "The weather outlook indicates a week-long period of intense rainfall.\n",
      "The forecast predicts heavy rain for the entire week.\n",
      "Score: 0.7814\n",
      "\n",
      "The weather outlook indicates a week-long period of intense rainfall.\n",
      "A week of intense rainfall is expected according to the weather report.\n",
      "Score: 0.8797\n",
      "\n",
      "The weather outlook indicates a week-long period of intense rainfall.\n",
      "The weather report anticipates a complete absence of rainfall throughout the week.\n",
      "Score: 0.6816\n",
      "\n",
      "The weather outlook indicates a week-long period of intense rainfall.\n",
      "The forecast predicts no rain for the entire week.\n",
      "Score: 0.5822\n",
      "\n",
      "The weather report anticipates a complete absence of rainfall throughout the week.\n",
      "The forecast predicts heavy rain for the entire week.\n",
      "Score: 0.6478\n",
      "\n",
      "The weather report anticipates a complete absence of rainfall throughout the week.\n",
      "A week of intense rainfall is expected according to the weather report.\n",
      "Score: 0.6898\n",
      "\n",
      "The weather report anticipates a complete absence of rainfall throughout the week.\n",
      "The weather outlook indicates a week-long period of intense rainfall.\n",
      "Score: 0.6816\n",
      "\n",
      "The weather report anticipates a complete absence of rainfall throughout the week.\n",
      "The forecast predicts no rain for the entire week.\n",
      "Score: 0.7460\n",
      "\n",
      "The forecast predicts no rain for the entire week.\n",
      "The forecast predicts heavy rain for the entire week.\n",
      "Score: 0.7658\n",
      "\n",
      "The forecast predicts no rain for the entire week.\n",
      "A week of intense rainfall is expected according to the weather report.\n",
      "Score: 0.6273\n",
      "\n",
      "The forecast predicts no rain for the entire week.\n",
      "The weather outlook indicates a week-long period of intense rainfall.\n",
      "Score: 0.5822\n",
      "\n",
      "The forecast predicts no rain for the entire week.\n",
      "The weather report anticipates a complete absence of rainfall throughout the week.\n",
      "Score: 0.7460\n",
      "\n"
     ]
    }
   ],
   "source": [
    "# Example sentences\n",
    "sentences1 = [\n",
    "    \"The forecast predicts heavy rain for the entire week.\",\n",
    "    \"A week of intense rainfall is expected according to the weather report.\",\n",
    "    \"The weather outlook indicates a week-long period of intense rainfall.\",\n",
    "    \"The weather report anticipates a complete absence of rainfall throughout the week.\",\n",
    "    \"The forecast predicts no rain for the entire week.\"\n",
    "]\n",
    "\n",
    "# Generate embeddings\n",
    "embeddings1 = model.encode(sentences1, convert_to_tensor=True)\n",
    "\n",
    "# Compute cosine-similarities\n",
    "cosine_scores = util.cos_sim(embeddings1, embeddings1)\n",
    "\n",
    "for i in range(5):\n",
    "    for j in range(5):\n",
    "        if i != j:\n",
    "            print(f\"{sentences1[i]}\\n{sentences1[j]}\\nScore: {cosine_scores[i][j]:.4f}\\n\")"
   ]
  },
  {
   "cell_type": "markdown",
   "id": "111f91d6",
   "metadata": {},
   "source": [
    "## Snowflake model requires transformers update"
   ]
  },
  {
   "cell_type": "code",
   "execution_count": 4,
   "id": "f889e23f",
   "metadata": {
    "scrolled": true
   },
   "outputs": [
    {
     "name": "stderr",
     "output_type": "stream",
     "text": [
      "You try to use a model that was created with version 2.7.0.dev0, however, your version is 2.3.1. This might cause unexpected behavior or errors. In that case, try to update to the latest version.\n",
      "\n",
      "\n",
      "\n"
     ]
    },
    {
     "ename": "TypeError",
     "evalue": "Pooling.__init__() got an unexpected keyword argument 'include_prompt'",
     "output_type": "error",
     "traceback": [
      "\u001b[1;31m---------------------------------------------------------------------------\u001b[0m",
      "\u001b[1;31mTypeError\u001b[0m                                 Traceback (most recent call last)",
      "Cell \u001b[1;32mIn[4], line 2\u001b[0m\n\u001b[0;32m      1\u001b[0m \u001b[38;5;66;03m# Initialize the model\u001b[39;00m\n\u001b[1;32m----> 2\u001b[0m model \u001b[38;5;241m=\u001b[39m \u001b[43mSentenceTransformer\u001b[49m\u001b[43m(\u001b[49m\u001b[38;5;124;43m\"\u001b[39;49m\u001b[38;5;124;43mSnowflake/snowflake-arctic-embed-l\u001b[39;49m\u001b[38;5;124;43m\"\u001b[39;49m\u001b[43m)\u001b[49m\n",
      "File \u001b[1;32m~\\anaconda3\\envs\\pytorch_gpu\\Lib\\site-packages\\sentence_transformers\\SentenceTransformer.py:194\u001b[0m, in \u001b[0;36mSentenceTransformer.__init__\u001b[1;34m(self, model_name_or_path, modules, device, cache_folder, trust_remote_code, revision, token, use_auth_token)\u001b[0m\n\u001b[0;32m    191\u001b[0m         model_name_or_path \u001b[38;5;241m=\u001b[39m __MODEL_HUB_ORGANIZATION__ \u001b[38;5;241m+\u001b[39m \u001b[38;5;124m\"\u001b[39m\u001b[38;5;124m/\u001b[39m\u001b[38;5;124m\"\u001b[39m \u001b[38;5;241m+\u001b[39m model_name_or_path\n\u001b[0;32m    193\u001b[0m \u001b[38;5;28;01mif\u001b[39;00m is_sentence_transformer_model(model_name_or_path, token, cache_folder\u001b[38;5;241m=\u001b[39mcache_folder, revision\u001b[38;5;241m=\u001b[39mrevision):\n\u001b[1;32m--> 194\u001b[0m     modules \u001b[38;5;241m=\u001b[39m \u001b[38;5;28;43mself\u001b[39;49m\u001b[38;5;241;43m.\u001b[39;49m\u001b[43m_load_sbert_model\u001b[49m\u001b[43m(\u001b[49m\n\u001b[0;32m    195\u001b[0m \u001b[43m        \u001b[49m\u001b[43mmodel_name_or_path\u001b[49m\u001b[43m,\u001b[49m\n\u001b[0;32m    196\u001b[0m \u001b[43m        \u001b[49m\u001b[43mtoken\u001b[49m\u001b[38;5;241;43m=\u001b[39;49m\u001b[43mtoken\u001b[49m\u001b[43m,\u001b[49m\n\u001b[0;32m    197\u001b[0m \u001b[43m        \u001b[49m\u001b[43mcache_folder\u001b[49m\u001b[38;5;241;43m=\u001b[39;49m\u001b[43mcache_folder\u001b[49m\u001b[43m,\u001b[49m\n\u001b[0;32m    198\u001b[0m \u001b[43m        \u001b[49m\u001b[43mrevision\u001b[49m\u001b[38;5;241;43m=\u001b[39;49m\u001b[43mrevision\u001b[49m\u001b[43m,\u001b[49m\n\u001b[0;32m    199\u001b[0m \u001b[43m        \u001b[49m\u001b[43mtrust_remote_code\u001b[49m\u001b[38;5;241;43m=\u001b[39;49m\u001b[43mtrust_remote_code\u001b[49m\u001b[43m,\u001b[49m\n\u001b[0;32m    200\u001b[0m \u001b[43m    \u001b[49m\u001b[43m)\u001b[49m\n\u001b[0;32m    201\u001b[0m \u001b[38;5;28;01melse\u001b[39;00m:\n\u001b[0;32m    202\u001b[0m     modules \u001b[38;5;241m=\u001b[39m \u001b[38;5;28mself\u001b[39m\u001b[38;5;241m.\u001b[39m_load_auto_model(\n\u001b[0;32m    203\u001b[0m         model_name_or_path,\n\u001b[0;32m    204\u001b[0m         token\u001b[38;5;241m=\u001b[39mtoken,\n\u001b[1;32m   (...)\u001b[0m\n\u001b[0;32m    207\u001b[0m         trust_remote_code\u001b[38;5;241m=\u001b[39mtrust_remote_code,\n\u001b[0;32m    208\u001b[0m     )\n",
      "File \u001b[1;32m~\\anaconda3\\envs\\pytorch_gpu\\Lib\\site-packages\\sentence_transformers\\SentenceTransformer.py:1073\u001b[0m, in \u001b[0;36mSentenceTransformer._load_sbert_model\u001b[1;34m(self, model_name_or_path, token, cache_folder, revision, trust_remote_code)\u001b[0m\n\u001b[0;32m   1065\u001b[0m         \u001b[38;5;28;01melse\u001b[39;00m:\n\u001b[0;32m   1066\u001b[0m             module_path \u001b[38;5;241m=\u001b[39m load_dir_path(\n\u001b[0;32m   1067\u001b[0m                 model_name_or_path,\n\u001b[0;32m   1068\u001b[0m                 module_config[\u001b[38;5;124m\"\u001b[39m\u001b[38;5;124mpath\u001b[39m\u001b[38;5;124m\"\u001b[39m],\n\u001b[1;32m   (...)\u001b[0m\n\u001b[0;32m   1071\u001b[0m                 revision\u001b[38;5;241m=\u001b[39mrevision,\n\u001b[0;32m   1072\u001b[0m             )\n\u001b[1;32m-> 1073\u001b[0m         module \u001b[38;5;241m=\u001b[39m \u001b[43mmodule_class\u001b[49m\u001b[38;5;241;43m.\u001b[39;49m\u001b[43mload\u001b[49m\u001b[43m(\u001b[49m\u001b[43mmodule_path\u001b[49m\u001b[43m)\u001b[49m\n\u001b[0;32m   1074\u001b[0m     modules[module_config[\u001b[38;5;124m\"\u001b[39m\u001b[38;5;124mname\u001b[39m\u001b[38;5;124m\"\u001b[39m]] \u001b[38;5;241m=\u001b[39m module\n\u001b[0;32m   1076\u001b[0m \u001b[38;5;28;01mreturn\u001b[39;00m modules\n",
      "File \u001b[1;32m~\\anaconda3\\envs\\pytorch_gpu\\Lib\\site-packages\\sentence_transformers\\models\\Pooling.py:198\u001b[0m, in \u001b[0;36mPooling.load\u001b[1;34m(input_path)\u001b[0m\n\u001b[0;32m    195\u001b[0m \u001b[38;5;28;01mwith\u001b[39;00m \u001b[38;5;28mopen\u001b[39m(os\u001b[38;5;241m.\u001b[39mpath\u001b[38;5;241m.\u001b[39mjoin(input_path, \u001b[38;5;124m\"\u001b[39m\u001b[38;5;124mconfig.json\u001b[39m\u001b[38;5;124m\"\u001b[39m)) \u001b[38;5;28;01mas\u001b[39;00m fIn:\n\u001b[0;32m    196\u001b[0m     config \u001b[38;5;241m=\u001b[39m json\u001b[38;5;241m.\u001b[39mload(fIn)\n\u001b[1;32m--> 198\u001b[0m \u001b[38;5;28;01mreturn\u001b[39;00m \u001b[43mPooling\u001b[49m\u001b[43m(\u001b[49m\u001b[38;5;241;43m*\u001b[39;49m\u001b[38;5;241;43m*\u001b[39;49m\u001b[43mconfig\u001b[49m\u001b[43m)\u001b[49m\n",
      "\u001b[1;31mTypeError\u001b[0m: Pooling.__init__() got an unexpected keyword argument 'include_prompt'"
     ]
    }
   ],
   "source": [
    "# Initialize the model\n",
    "model = SentenceTransformer(\"Snowflake/snowflake-arctic-embed-l\")"
   ]
  },
  {
   "cell_type": "code",
   "execution_count": null,
   "id": "62ea8c25",
   "metadata": {},
   "outputs": [],
   "source": [
    "# Example sentences\n",
    "sentences1 = [\n",
    "    \"The forecast predicts heavy rain for the entire week.\",\n",
    "    \"A week of intense rainfall is expected according to the weather report.\",\n",
    "    \"Rain drops are falling on my entire heavy week head.\"\n",
    "]\n",
    "\n",
    "# Generate embeddings\n",
    "embeddings1 = model.encode(sentences1, convert_to_tensor=True)\n",
    "\n",
    "# Compute cosine-similarities\n",
    "cosine_scores = util.cos_sim(embeddings1, embeddings1)\n",
    "\n",
    "print(f\"{sentences1[0]}\\n{sentences1[1]}\\nScore: {cosine_scores[0][1]:.4f}\\n\")\n",
    "print(f\"{sentences1[0]}\\n{sentences1[2]}\\nScore: {cosine_scores[0][2]:.4f}\\n\")\n",
    "print(f\"{sentences1[1]}\\n{sentences1[2]}\\nScore: {cosine_scores[1][2]:.4f}\\n\")"
   ]
  },
  {
   "cell_type": "code",
   "execution_count": null,
   "id": "a05b55cf",
   "metadata": {},
   "outputs": [],
   "source": []
  },
  {
   "cell_type": "code",
   "execution_count": null,
   "id": "b4c9b65a",
   "metadata": {},
   "outputs": [],
   "source": []
  },
  {
   "cell_type": "code",
   "execution_count": null,
   "id": "e2401e86",
   "metadata": {},
   "outputs": [],
   "source": []
  }
 ],
 "metadata": {
  "kernelspec": {
   "display_name": "pytorch_gpu",
   "language": "python",
   "name": "pytorch_gpu"
  },
  "language_info": {
   "codemirror_mode": {
    "name": "ipython",
    "version": 3
   },
   "file_extension": ".py",
   "mimetype": "text/x-python",
   "name": "python",
   "nbconvert_exporter": "python",
   "pygments_lexer": "ipython3",
   "version": "3.11.7"
  }
 },
 "nbformat": 4,
 "nbformat_minor": 5
}
