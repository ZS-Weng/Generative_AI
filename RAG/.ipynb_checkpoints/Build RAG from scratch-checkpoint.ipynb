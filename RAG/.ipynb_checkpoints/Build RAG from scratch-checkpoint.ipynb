{
 "cells": [
  {
   "cell_type": "markdown",
   "id": "3d13502f",
   "metadata": {},
   "source": [
    "## Notebook on learning about RAG\n",
    "\n",
    "- Good resource: https://learnbybuilding.ai/tutorials/rag-from-scratch"
   ]
  },
  {
   "cell_type": "markdown",
   "id": "b87ea8d3",
   "metadata": {},
   "source": [
    "### Benefits of RAG written in the tutorial\n",
    "\n",
    "- You can include facts in the prompt to help the LLM avoid hallucinations\n",
    "- You can (manually) refer to sources of truth when responding to a user query, helping to double check any potential issues.\n",
    "- You can leverage data that the LLM might not have been trained on.\n",
    "\n",
    "### The High Level Components of our RAG System\n",
    "- a collection of documents (formally called a corpus)\n",
    "- An input from the user\n",
    "- a similarity measure between the collection of documents and the user input"
   ]
  },
  {
   "cell_type": "code",
   "execution_count": 1,
   "id": "b8e02811",
   "metadata": {},
   "outputs": [],
   "source": [
    "corpus_of_documents = [\n",
    "    \"Take a leisurely walk in the park and enjoy the fresh air.\",\n",
    "    \"Visit a local museum and discover something new.\",\n",
    "    \"Attend a live music concert and feel the rhythm.\",\n",
    "    \"Go for a hike and admire the natural scenery.\",\n",
    "    \"Have a picnic with friends and share some laughs.\",\n",
    "    \"Explore a new cuisine by dining at an ethnic restaurant.\",\n",
    "    \"Take a yoga class and stretch your body and mind.\",\n",
    "    \"Join a local sports league and enjoy some friendly competition.\",\n",
    "    \"Attend a workshop or lecture on a topic you're interested in.\",\n",
    "    \"Visit an amusement park and ride the roller coasters.\"\n",
    "]"
   ]
  },
  {
   "cell_type": "code",
   "execution_count": null,
   "id": "ce4c8ded",
   "metadata": {},
   "outputs": [],
   "source": []
  }
 ],
 "metadata": {
  "kernelspec": {
   "display_name": "pytorch_gpu",
   "language": "python",
   "name": "pytorch_gpu"
  },
  "language_info": {
   "codemirror_mode": {
    "name": "ipython",
    "version": 3
   },
   "file_extension": ".py",
   "mimetype": "text/x-python",
   "name": "python",
   "nbconvert_exporter": "python",
   "pygments_lexer": "ipython3",
   "version": "3.11.7"
  }
 },
 "nbformat": 4,
 "nbformat_minor": 5
}
