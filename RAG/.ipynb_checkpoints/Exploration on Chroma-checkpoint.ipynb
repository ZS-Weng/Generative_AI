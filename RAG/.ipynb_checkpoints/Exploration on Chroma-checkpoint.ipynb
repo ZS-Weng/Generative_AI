{
 "cells": [
  {
   "cell_type": "markdown",
   "id": "b0d989f0",
   "metadata": {},
   "source": [
    "## Useful Resources to learn about Chroma\n",
    "\n",
    "- https://learn.deeplearning.ai/courses/advanced-retrieval-for-ai/lesson/\n",
    "- https://www.trychroma.com/"
   ]
  },
  {
   "cell_type": "code",
   "execution_count": null,
   "id": "255d5a67",
   "metadata": {},
   "outputs": [],
   "source": []
  }
 ],
 "metadata": {
  "kernelspec": {
   "display_name": "pytorch_gpu",
   "language": "python",
   "name": "pytorch_gpu"
  },
  "language_info": {
   "codemirror_mode": {
    "name": "ipython",
    "version": 3
   },
   "file_extension": ".py",
   "mimetype": "text/x-python",
   "name": "python",
   "nbconvert_exporter": "python",
   "pygments_lexer": "ipython3",
   "version": "3.11.7"
  }
 },
 "nbformat": 4,
 "nbformat_minor": 5
}
