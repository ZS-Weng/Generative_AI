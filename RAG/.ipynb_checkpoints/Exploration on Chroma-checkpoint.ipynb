{
 "cells": [
  {
   "cell_type": "markdown",
   "id": "b0d989f0",
   "metadata": {},
   "source": [
    "## Useful Resources to learn about Chroma\n",
    "\n",
    "- https://learn.deeplearning.ai/courses/advanced-retrieval-for-ai/lesson/\n",
    "- https://www.trychroma.com/"
   ]
  },
  {
   "cell_type": "markdown",
   "id": "06ba2567",
   "metadata": {},
   "source": [
    "## To do:\n",
    "\n",
    "- Create my own embedding function from HuggingFace\n",
    "- Count on the collections to be created with multiple documents (use the same Annual Report)\n",
    "- Look into more advanced functions of ChromaDB"
   ]
  },
  {
   "cell_type": "code",
   "execution_count": 2,
   "id": "255d5a67",
   "metadata": {},
   "outputs": [],
   "source": [
    "import chromadb\n",
    "import os"
   ]
  },
  {
   "cell_type": "code",
   "execution_count": 4,
   "id": "5b57a52d",
   "metadata": {},
   "outputs": [
    {
     "data": {
      "text/plain": [
       "['5e21ade8-5969-4d1d-900c-d2c5e73a0324', 'chroma.sqlite3']"
      ]
     },
     "execution_count": 4,
     "metadata": {},
     "output_type": "execute_result"
    }
   ],
   "source": [
    "os.listdir(\"./chromadb\")"
   ]
  },
  {
   "cell_type": "code",
   "execution_count": 5,
   "id": "7859668c",
   "metadata": {},
   "outputs": [],
   "source": [
    "client = chromadb.PersistentClient(path=\"./chromadb\")"
   ]
  },
  {
   "cell_type": "code",
   "execution_count": 6,
   "id": "8d09622f",
   "metadata": {},
   "outputs": [
    {
     "data": {
      "text/plain": [
       "1710061970075652200"
      ]
     },
     "execution_count": 6,
     "metadata": {},
     "output_type": "execute_result"
    }
   ],
   "source": [
    "client.heartbeat()"
   ]
  },
  {
   "cell_type": "code",
   "execution_count": 8,
   "id": "d3041182",
   "metadata": {},
   "outputs": [
    {
     "data": {
      "text/plain": [
       "1"
      ]
     },
     "execution_count": 8,
     "metadata": {},
     "output_type": "execute_result"
    }
   ],
   "source": [
    "client.count_collections()"
   ]
  },
  {
   "cell_type": "code",
   "execution_count": 9,
   "id": "cd7d2d33",
   "metadata": {},
   "outputs": [
    {
     "data": {
      "text/plain": [
       "[Collection(name=Berkshire_Annual_Report)]"
      ]
     },
     "execution_count": 9,
     "metadata": {},
     "output_type": "execute_result"
    }
   ],
   "source": [
    "client.list_collections()"
   ]
  },
  {
   "cell_type": "code",
   "execution_count": null,
   "id": "3687e305",
   "metadata": {},
   "outputs": [],
   "source": []
  }
 ],
 "metadata": {
  "kernelspec": {
   "display_name": "pytorch_gpu",
   "language": "python",
   "name": "pytorch_gpu"
  },
  "language_info": {
   "codemirror_mode": {
    "name": "ipython",
    "version": 3
   },
   "file_extension": ".py",
   "mimetype": "text/x-python",
   "name": "python",
   "nbconvert_exporter": "python",
   "pygments_lexer": "ipython3",
   "version": "3.11.7"
  }
 },
 "nbformat": 4,
 "nbformat_minor": 5
}
