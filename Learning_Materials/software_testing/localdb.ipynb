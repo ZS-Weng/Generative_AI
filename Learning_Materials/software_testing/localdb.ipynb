{
 "cells": [
  {
   "cell_type": "markdown",
   "metadata": {},
   "source": [
    "## Creating a database based on local file with Gen AI"
   ]
  },
  {
   "cell_type": "markdown",
   "metadata": {},
   "source": [
    "from sqlalchemy import create_engine\n",
    "\n",
    "# Create an engine instance\n",
    "engine = create_engine('sqlite:///mydatabase.db')"
   ]
  },
  {
   "cell_type": "markdown",
   "metadata": {},
   "source": [
    "from sqlalchemy import create_engine, Column, Integer, String\n",
    "from sqlalchemy.orm import declarative_base\n",
    "\n",
    "# Create the engine\n",
    "engine = create_engine('sqlite:///mydatabase.db')\n",
    "\n",
    "# Define a simple model\n",
    "Base = declarative_base()\n",
    "\n",
    "class User(Base):\n",
    "    __tablename__ = 'users'\n",
    "\n",
    "    id = Column(Integer, primary_key=True)\n",
    "    name = Column(String)\n",
    "    email = Column(String)\n",
    "\n",
    "# Create the table\n",
    "Base.metadata.create_all(engine)\n",
    "\n",
    "print(\"Database connected and table created successfully!\")"
   ]
  },
  {
   "cell_type": "code",
   "execution_count": 1,
   "metadata": {},
   "outputs": [],
   "source": [
    "from sqlalchemy import create_engine, Column, Integer, String, ForeignKey, DateTime, Float\n",
    "from sqlalchemy.orm import sessionmaker, declarative_base"
   ]
  },
  {
   "cell_type": "code",
   "execution_count": 2,
   "metadata": {},
   "outputs": [],
   "source": [
    "Base = declarative_base()"
   ]
  },
  {
   "cell_type": "code",
   "execution_count": 3,
   "metadata": {},
   "outputs": [],
   "source": [
    "class User(Base):\n",
    "    __tablename__ = 'users'\n",
    "\n",
    "    user_id = Column(Integer, primary_key=True)\n",
    "    username = Column(String)\n",
    "    email = Column(String, unique=True)\n",
    "    password_hash = Column(String)\n",
    "    first_name = Column(String)\n",
    "    last_name = Column(String)\n",
    "    address = Column(String)\n",
    "    phone_number = Column(String)\n",
    "\n",
    "class Product(Base):\n",
    "    __tablename__ = 'products'\n",
    "\n",
    "    product_id = Column(Integer, primary_key=True)\n",
    "    name = Column(String)\n",
    "    description = Column(String)\n",
    "    price = Column(Float)\n",
    "    quantity_in_stock = Column(Integer)\n",
    "    category_id = Column(Integer, ForeignKey('categories.category_id'))\n",
    "    image_url = Column(String)\n",
    "\n",
    "class Category(Base):\n",
    "    __tablename__ = 'categories'\n",
    "\n",
    "    category_id = Column(Integer, primary_key=True)\n",
    "    name = Column(String)\n",
    "\n",
    "class Order(Base):\n",
    "    __tablename__ = 'orders'\n",
    "\n",
    "    order_id = Column(Integer, primary_key=True)\n",
    "    user_id = Column(Integer, ForeignKey('users.user_id'))\n",
    "    order_date = Column(DateTime)\n",
    "    total_amount = Column(Float)\n",
    "    shipping_address = Column(String)\n",
    "    billing_address = Column(String)\n",
    "\n",
    "class OrderItem(Base):\n",
    "    __tablename__ = 'order_items'\n",
    "\n",
    "    order_item_id = Column(Integer, primary_key=True)\n",
    "    order_id = Column(Integer, ForeignKey('orders.order_id'))\n",
    "    product_id = Column(Integer, ForeignKey('products.product_id'))\n",
    "    quantity = Column(Integer)\n",
    "    price = Column(Float)"
   ]
  },
  {
   "cell_type": "code",
   "execution_count": 4,
   "metadata": {},
   "outputs": [],
   "source": [
    "engine = create_engine('sqlite:///ecommerce.db')"
   ]
  },
  {
   "cell_type": "code",
   "execution_count": 5,
   "metadata": {},
   "outputs": [],
   "source": [
    "Base.metadata.create_all(engine)"
   ]
  },
  {
   "cell_type": "code",
   "execution_count": 6,
   "metadata": {},
   "outputs": [],
   "source": [
    "Session = sessionmaker(bind=engine)\n",
    "session = Session()"
   ]
  },
  {
   "cell_type": "code",
   "execution_count": 12,
   "metadata": {},
   "outputs": [],
   "source": [
    "# Insert a new user\n",
    "new_user = User(username='jane_doe', email='janedoe@example.com', password_hash='hashed_password')\n",
    "session.add(new_user)\n",
    "\n",
    "# Commit changes\n",
    "session.commit()\n"
   ]
  },
  {
   "cell_type": "code",
   "execution_count": 7,
   "metadata": {},
   "outputs": [
    {
     "name": "stdout",
     "output_type": "stream",
     "text": [
      "1\n",
      "john_doe\n",
      "johndoe@example.com\n",
      "hashed_password\n",
      "None\n",
      "None\n",
      "None\n",
      "None\n",
      "2\n",
      "jane_doe\n",
      "janedoe@example.com\n",
      "hashed_password\n",
      "None\n",
      "None\n",
      "None\n",
      "None\n"
     ]
    },
    {
     "data": {
      "text/html": [
       "<div>\n",
       "<style scoped>\n",
       "    .dataframe tbody tr th:only-of-type {\n",
       "        vertical-align: middle;\n",
       "    }\n",
       "\n",
       "    .dataframe tbody tr th {\n",
       "        vertical-align: top;\n",
       "    }\n",
       "\n",
       "    .dataframe thead th {\n",
       "        text-align: right;\n",
       "    }\n",
       "</style>\n",
       "<table border=\"1\" class=\"dataframe\">\n",
       "  <thead>\n",
       "    <tr style=\"text-align: right;\">\n",
       "      <th></th>\n",
       "      <th>_sa_instance_state</th>\n",
       "      <th>first_name</th>\n",
       "      <th>password_hash</th>\n",
       "      <th>email</th>\n",
       "      <th>address</th>\n",
       "      <th>username</th>\n",
       "      <th>user_id</th>\n",
       "      <th>last_name</th>\n",
       "      <th>phone_number</th>\n",
       "    </tr>\n",
       "  </thead>\n",
       "  <tbody>\n",
       "    <tr>\n",
       "      <th>0</th>\n",
       "      <td>&lt;sqlalchemy.orm.state.InstanceState object at ...</td>\n",
       "      <td>None</td>\n",
       "      <td>hashed_password</td>\n",
       "      <td>johndoe@example.com</td>\n",
       "      <td>None</td>\n",
       "      <td>john_doe</td>\n",
       "      <td>1</td>\n",
       "      <td>None</td>\n",
       "      <td>None</td>\n",
       "    </tr>\n",
       "    <tr>\n",
       "      <th>1</th>\n",
       "      <td>&lt;sqlalchemy.orm.state.InstanceState object at ...</td>\n",
       "      <td>None</td>\n",
       "      <td>hashed_password</td>\n",
       "      <td>janedoe@example.com</td>\n",
       "      <td>None</td>\n",
       "      <td>jane_doe</td>\n",
       "      <td>2</td>\n",
       "      <td>None</td>\n",
       "      <td>None</td>\n",
       "    </tr>\n",
       "  </tbody>\n",
       "</table>\n",
       "</div>"
      ],
      "text/plain": [
       "                                  _sa_instance_state first_name  \\\n",
       "0  <sqlalchemy.orm.state.InstanceState object at ...       None   \n",
       "1  <sqlalchemy.orm.state.InstanceState object at ...       None   \n",
       "\n",
       "     password_hash                email address  username  user_id last_name  \\\n",
       "0  hashed_password  johndoe@example.com    None  john_doe        1      None   \n",
       "1  hashed_password  janedoe@example.com    None  jane_doe        2      None   \n",
       "\n",
       "  phone_number  \n",
       "0         None  \n",
       "1         None  "
      ]
     },
     "execution_count": 7,
     "metadata": {},
     "output_type": "execute_result"
    }
   ],
   "source": [
    "\n",
    "# Query for all users\n",
    "users = session.query(User).all()\n",
    "\n",
    "for user in users:\n",
    "    for column_name in User.__table__.columns.keys():\n",
    "        print(getattr(user, column_name))\n",
    "\n",
    "# Convert to Pandas DataFrame\n",
    "import pandas as pd\n",
    "\n",
    "df = pd.DataFrame(map(lambda x: x.__dict__, users))\n",
    "\n",
    "df"
   ]
  },
  {
   "cell_type": "code",
   "execution_count": 10,
   "metadata": {},
   "outputs": [],
   "source": [
    "users = session.query(User) \\\n",
    "    .order_by(User.user_id) \\\n",
    "    .limit(10) \\\n",
    "    .all()"
   ]
  },
  {
   "cell_type": "code",
   "execution_count": 12,
   "metadata": {},
   "outputs": [
    {
     "name": "stdout",
     "output_type": "stream",
     "text": [
      "<__main__.User object at 0x000001964356D430>\n",
      "<__main__.User object at 0x00000196436004D0>\n"
     ]
    }
   ],
   "source": [
    "for user in users:\n",
    "    print(user)"
   ]
  },
  {
   "cell_type": "code",
   "execution_count": 19,
   "metadata": {},
   "outputs": [
    {
     "ename": "ObjectNotExecutableError",
     "evalue": "Not an executable object: 'SELECT * FROM users'",
     "output_type": "error",
     "traceback": [
      "\u001b[1;31m---------------------------------------------------------------------------\u001b[0m",
      "\u001b[1;31mAttributeError\u001b[0m                            Traceback (most recent call last)",
      "File \u001b[1;32mc:\\Users\\wengz\\miniforge3\\envs\\ds_gpu\\Lib\\site-packages\\sqlalchemy\\engine\\base.py:1414\u001b[0m, in \u001b[0;36mConnection.execute\u001b[1;34m(self, statement, parameters, execution_options)\u001b[0m\n\u001b[0;32m   1413\u001b[0m \u001b[38;5;28;01mtry\u001b[39;00m:\n\u001b[1;32m-> 1414\u001b[0m     meth \u001b[38;5;241m=\u001b[39m \u001b[43mstatement\u001b[49m\u001b[38;5;241;43m.\u001b[39;49m\u001b[43m_execute_on_connection\u001b[49m\n\u001b[0;32m   1415\u001b[0m \u001b[38;5;28;01mexcept\u001b[39;00m \u001b[38;5;167;01mAttributeError\u001b[39;00m \u001b[38;5;28;01mas\u001b[39;00m err:\n",
      "\u001b[1;31mAttributeError\u001b[0m: 'str' object has no attribute '_execute_on_connection'",
      "\nThe above exception was the direct cause of the following exception:\n",
      "\u001b[1;31mObjectNotExecutableError\u001b[0m                  Traceback (most recent call last)",
      "Cell \u001b[1;32mIn[19], line 5\u001b[0m\n\u001b[0;32m      2\u001b[0m \u001b[38;5;28;01mimport\u001b[39;00m \u001b[38;5;21;01mpandas\u001b[39;00m \u001b[38;5;28;01mas\u001b[39;00m \u001b[38;5;21;01mpd\u001b[39;00m\n\u001b[0;32m      4\u001b[0m \u001b[38;5;28;01mwith\u001b[39;00m engine\u001b[38;5;241m.\u001b[39mconnect() \u001b[38;5;28;01mas\u001b[39;00m conn:\n\u001b[1;32m----> 5\u001b[0m     result \u001b[38;5;241m=\u001b[39m \u001b[43mconn\u001b[49m\u001b[38;5;241;43m.\u001b[39;49m\u001b[43mexecute\u001b[49m\u001b[43m(\u001b[49m\u001b[38;5;124;43m\"\u001b[39;49m\u001b[38;5;124;43mSELECT * FROM users\u001b[39;49m\u001b[38;5;124;43m\"\u001b[39;49m\u001b[43m)\u001b[49m\n\u001b[0;32m      6\u001b[0m     df \u001b[38;5;241m=\u001b[39m pd\u001b[38;5;241m.\u001b[39mDataFrame(result\u001b[38;5;241m.\u001b[39mfetchall(), columns\u001b[38;5;241m=\u001b[39mresult\u001b[38;5;241m.\u001b[39mkeys())\n\u001b[0;32m      8\u001b[0m \u001b[38;5;28mprint\u001b[39m(df)\n",
      "File \u001b[1;32mc:\\Users\\wengz\\miniforge3\\envs\\ds_gpu\\Lib\\site-packages\\sqlalchemy\\engine\\base.py:1416\u001b[0m, in \u001b[0;36mConnection.execute\u001b[1;34m(self, statement, parameters, execution_options)\u001b[0m\n\u001b[0;32m   1414\u001b[0m     meth \u001b[38;5;241m=\u001b[39m statement\u001b[38;5;241m.\u001b[39m_execute_on_connection\n\u001b[0;32m   1415\u001b[0m \u001b[38;5;28;01mexcept\u001b[39;00m \u001b[38;5;167;01mAttributeError\u001b[39;00m \u001b[38;5;28;01mas\u001b[39;00m err:\n\u001b[1;32m-> 1416\u001b[0m     \u001b[38;5;28;01mraise\u001b[39;00m exc\u001b[38;5;241m.\u001b[39mObjectNotExecutableError(statement) \u001b[38;5;28;01mfrom\u001b[39;00m \u001b[38;5;21;01merr\u001b[39;00m\n\u001b[0;32m   1417\u001b[0m \u001b[38;5;28;01melse\u001b[39;00m:\n\u001b[0;32m   1418\u001b[0m     \u001b[38;5;28;01mreturn\u001b[39;00m meth(\n\u001b[0;32m   1419\u001b[0m         \u001b[38;5;28mself\u001b[39m,\n\u001b[0;32m   1420\u001b[0m         distilled_parameters,\n\u001b[0;32m   1421\u001b[0m         execution_options \u001b[38;5;129;01mor\u001b[39;00m NO_OPTIONS,\n\u001b[0;32m   1422\u001b[0m     )\n",
      "\u001b[1;31mObjectNotExecutableError\u001b[0m: Not an executable object: 'SELECT * FROM users'"
     ]
    }
   ],
   "source": [
    "# Query the database\n",
    "import pandas as pd\n",
    "\n",
    "with engine.connect() as conn:\n",
    "    result = conn.execute(\"SELECT * FROM users\")\n",
    "    df = pd.DataFrame(result.fetchall(), columns=result.keys())\n",
    "\n",
    "print(df)"
   ]
  },
  {
   "cell_type": "code",
   "execution_count": null,
   "metadata": {},
   "outputs": [],
   "source": [
    "\n",
    "# Query for products in a specific category\n",
    "products_in_category = session.query(Product).all()"
   ]
  },
  {
   "cell_type": "code",
   "execution_count": 18,
   "metadata": {},
   "outputs": [],
   "source": [
    "session.close()"
   ]
  },
  {
   "cell_type": "code",
   "execution_count": 22,
   "metadata": {},
   "outputs": [
    {
     "name": "stdout",
     "output_type": "stream",
     "text": [
      "categories\n",
      "  - category_id: INTEGER\n",
      "  - name: VARCHAR\n",
      "order_items\n",
      "  - order_item_id: INTEGER\n",
      "  - order_id: INTEGER\n",
      "  - product_id: INTEGER\n",
      "  - quantity: INTEGER\n",
      "  - price: FLOAT\n",
      "orders\n",
      "  - order_id: INTEGER\n",
      "  - user_id: INTEGER\n",
      "  - order_date: DATETIME\n",
      "  - total_amount: FLOAT\n",
      "  - shipping_address: VARCHAR\n",
      "  - billing_address: VARCHAR\n",
      "users\n",
      "  - user_id: INTEGER\n",
      "  - username: VARCHAR\n",
      "  - email: VARCHAR\n",
      "  - password_hash: VARCHAR\n",
      "  - first_name: VARCHAR\n",
      "  - last_name: VARCHAR\n",
      "  - address: VARCHAR\n",
      "  - phone_number: VARCHAR\n",
      "products\n",
      "  - product_id: INTEGER\n",
      "  - name: VARCHAR\n",
      "  - description: VARCHAR\n",
      "  - price: FLOAT\n",
      "  - quantity_in_stock: INTEGER\n",
      "  - category_id: INTEGER\n",
      "  - image_url: VARCHAR\n"
     ]
    }
   ],
   "source": [
    "from sqlalchemy import MetaData, create_engine\n",
    "\n",
    "engine = create_engine('sqlite:///ecommerce.db')\n",
    "metadata = MetaData()\n",
    "metadata.reflect(bind=engine)\n",
    "\n",
    "# Access tables and columns:\n",
    "for table in metadata.tables.values():\n",
    "    print(table.name)\n",
    "    for column in table.columns:\n",
    "        print(f\"  - {column.name}: {column.type}\")"
   ]
  },
  {
   "cell_type": "code",
   "execution_count": null,
   "metadata": {},
   "outputs": [],
   "source": []
  }
 ],
 "metadata": {
  "kernelspec": {
   "display_name": "Python 3",
   "language": "python",
   "name": "python3"
  },
  "language_info": {
   "codemirror_mode": {
    "name": "ipython",
    "version": 3
   },
   "file_extension": ".py",
   "mimetype": "text/x-python",
   "name": "python",
   "nbconvert_exporter": "python",
   "pygments_lexer": "ipython3",
   "version": "3.12.4"
  }
 },
 "nbformat": 4,
 "nbformat_minor": 2
}
